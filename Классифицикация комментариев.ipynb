{
 "cells": [
  {
   "cell_type": "markdown",
   "id": "78dfc212",
   "metadata": {},
   "source": [
    "<font size=\"5\">**13. Проект для «Викишоп» с Bert**</font>"
   ]
  },
  {
   "cell_type": "markdown",
   "id": "717ec4c7",
   "metadata": {},
   "source": [
    "**ОПИСАНИЕ ПРОЕКТА**\n",
    "\n",
    "Интернет-магазин «Викишоп» запускает новый сервис. Теперь пользователи могут редактировать и дополнять описания товаров, как в вики-сообществах. То есть клиенты предлагают свои правки и комментируют изменения других. Магазину нужен инструмент, который будет искать токсичные комментарии и отправлять их на модерацию. \n",
    "\n",
    "*Описание данных*\n",
    "В распоряжении набор данных с разметкой о токсичности правок. Столбец text в нём содержит текст комментария, а toxic — целевой признак.\n",
    "\n",
    "**ЦЕЛЬ ПРОЕКТА:**\n",
    "Обучить модель классифицировать комментарии на позитивные и негативные. Построить модель со значением метрики качества F1 не меньше 0.75. "
   ]
  },
  {
   "cell_type": "markdown",
   "id": "44f80fed-ce53-45f3-b20e-c06fee8933ca",
   "metadata": {
    "toc": true
   },
   "source": [
    "<h1>Table of Contents<span class=\"tocSkip\"></span></h1>\n",
    "<div class=\"toc\"><ul class=\"toc-item\"><li><span><a href=\"#Шаг-1.-Загрузка-и-подготовка-данных\" data-toc-modified-id=\"Шаг-1.-Загрузка-и-подготовка-данных-1\"><span class=\"toc-item-num\">1&nbsp;&nbsp;</span>Шаг 1. Загрузка и подготовка данных</a></span><ul class=\"toc-item\"><li><span><a href=\"#Загрузка-данных\" data-toc-modified-id=\"Загрузка-данных-1.1\"><span class=\"toc-item-num\">1.1&nbsp;&nbsp;</span>Загрузка данных</a></span><ul class=\"toc-item\"><li><span><a href=\"#Загрузка-и-установка-библиотек\" data-toc-modified-id=\"Загрузка-и-установка-библиотек-1.1.1\"><span class=\"toc-item-num\">1.1.1&nbsp;&nbsp;</span>Загрузка и установка библиотек</a></span></li><li><span><a href=\"#Загрузим-данные\" data-toc-modified-id=\"Загрузим-данные-1.1.2\"><span class=\"toc-item-num\">1.1.2&nbsp;&nbsp;</span>Загрузим данные</a></span></li><li><span><a href=\"#Проверим,-что-данные-в-таблице-соответствуют-описанию\" data-toc-modified-id=\"Проверим,-что-данные-в-таблице-соответствуют-описанию-1.1.3\"><span class=\"toc-item-num\">1.1.3&nbsp;&nbsp;</span>Проверим, что данные в таблице соответствуют описанию</a></span></li><li><span><a href=\"#Вывод-по-разделу-Загрузка-данных\" data-toc-modified-id=\"Вывод-по-разделу-Загрузка-данных-1.1.4\"><span class=\"toc-item-num\">1.1.4&nbsp;&nbsp;</span>Вывод по разделу Загрузка данных</a></span></li></ul></li><li><span><a href=\"#Предобработка-данных\" data-toc-modified-id=\"Предобработка-данных-1.2\"><span class=\"toc-item-num\">1.2&nbsp;&nbsp;</span>Предобработка данных</a></span><ul class=\"toc-item\"><li><span><a href=\"#Выведем-общую-информацию-о-датасете\" data-toc-modified-id=\"Выведем-общую-информацию-о-датасете-1.2.1\"><span class=\"toc-item-num\">1.2.1&nbsp;&nbsp;</span>Выведем общую информацию о датасете</a></span></li><li><span><a href=\"#Проверим-данные-на-пропуски\" data-toc-modified-id=\"Проверим-данные-на-пропуски-1.2.2\"><span class=\"toc-item-num\">1.2.2&nbsp;&nbsp;</span>Проверим данные на пропуски</a></span></li><li><span><a href=\"#Проверим-наличие-дубликатов\" data-toc-modified-id=\"Проверим-наличие-дубликатов-1.2.3\"><span class=\"toc-item-num\">1.2.3&nbsp;&nbsp;</span>Проверим наличие дубликатов</a></span></li><li><span><a href=\"#Вывод-по-разделу-Предобработка-данных\" data-toc-modified-id=\"Вывод-по-разделу-Предобработка-данных-1.2.4\"><span class=\"toc-item-num\">1.2.4&nbsp;&nbsp;</span>Вывод по разделу Предобработка данных</a></span></li></ul></li><li><span><a href=\"#Вывод-по-разделу-Шаг-1.-Загрузка-и-подготока-данных\" data-toc-modified-id=\"Вывод-по-разделу-Шаг-1.-Загрузка-и-подготока-данных-1.3\"><span class=\"toc-item-num\">1.3&nbsp;&nbsp;</span>Вывод по разделу Шаг 1. Загрузка и подготока данных</a></span></li></ul></li><li><span><a href=\"#Шаг-2.-Обучение-моделей\" data-toc-modified-id=\"Шаг-2.-Обучение-моделей-2\"><span class=\"toc-item-num\">2&nbsp;&nbsp;</span>Шаг 2. Обучение моделей</a></span><ul class=\"toc-item\"><li><span><a href=\"#Вывод-по-разделу-Шаг-2.-Обучение-и-проверка-модели-для-каждого-региона\" data-toc-modified-id=\"Вывод-по-разделу-Шаг-2.-Обучение-и-проверка-модели-для-каждого-региона-2.1\"><span class=\"toc-item-num\">2.1&nbsp;&nbsp;</span>Вывод по разделу Шаг 2. Обучение и проверка модели для каждого региона</a></span></li></ul></li><li><span><a href=\"#ОБЩИЙ-ВЫВОД\" data-toc-modified-id=\"ОБЩИЙ-ВЫВОД-3\"><span class=\"toc-item-num\">3&nbsp;&nbsp;</span>ОБЩИЙ ВЫВОД</a></span></li></ul></div>"
   ]
  },
  {
   "cell_type": "markdown",
   "id": "a18119d2",
   "metadata": {},
   "source": [
    "## Шаг 1. Загрузка и подготовка данных"
   ]
  },
  {
   "cell_type": "markdown",
   "id": "b8c7f2ad",
   "metadata": {},
   "source": [
    "### Загрузка данных"
   ]
  },
  {
   "cell_type": "markdown",
   "id": "56e414ef",
   "metadata": {},
   "source": [
    "#### Загрузка и установка библиотек"
   ]
  },
  {
   "cell_type": "code",
   "execution_count": 1,
   "id": "d17cb141",
   "metadata": {},
   "outputs": [],
   "source": [
    "!pip install -U scikit-learn -q"
   ]
  },
  {
   "cell_type": "code",
   "execution_count": 2,
   "id": "d199fc8b",
   "metadata": {
    "scrolled": true
   },
   "outputs": [],
   "source": [
    "import os\n",
    "import numpy as np\n",
    "import pandas as pd\n",
    "import torch\n",
    "import transformers\n",
    "import sys\n",
    "import matplotlib.pyplot as plt\n",
    "import seaborn as sns\n",
    "from transformers import BertTokenizer, BertModel\n",
    "from tqdm import notebook\n",
    "\n",
    "from sklearn.metrics import f1_score, make_scorer\n",
    "from sklearn.model_selection import train_test_split, RandomizedSearchCV\n",
    "from sklearn.pipeline import Pipeline\n",
    "from sklearn.tree import DecisionTreeClassifier\n",
    "from sklearn.linear_model import LogisticRegression\n",
    "from sklearn.ensemble import RandomForestClassifier\n",
    "from sklearn.model_selection import cross_val_score\n",
    "\n",
    "from sklearn.metrics import confusion_matrix, ConfusionMatrixDisplay"
   ]
  },
  {
   "cell_type": "markdown",
   "id": "fe6523ef",
   "metadata": {},
   "source": [
    "#### Загрузим данные"
   ]
  },
  {
   "cell_type": "code",
   "execution_count": 3,
   "id": "edab6169",
   "metadata": {},
   "outputs": [],
   "source": [
    "# Настроим параметры отображения pandas, чтобы отображать все элементы\n",
    "pd.set_option('display.max_rows', None)  # Отображать все строки\n",
    "pd.set_option('display.max_columns', None)  # Отображать все столбцы\n",
    "pd.set_option('display.width', 1000)  # Увеличить ширину вывода, чтобы строки не переносились\n",
    "pd.set_option('display.max_colwidth', None)  # Отображать содержимое столбцов полностью"
   ]
  },
  {
   "cell_type": "markdown",
   "id": "8ec3271a",
   "metadata": {},
   "source": [
    "Загрузим данные из CSV-файла, установим столбец 'datetime' в качестве индекса и автоматически преобразуем его в формат datetime при помощи параметра parse_dates."
   ]
  },
  {
   "cell_type": "code",
   "execution_count": 4,
   "id": "da1895f9",
   "metadata": {},
   "outputs": [],
   "source": [
    "# Сохраняем путь к файлам\n",
    "# Локальный\n",
    "way1 = '/Users/natali/Desktop/NT/Яндекс_практикум/Проекты/13. Машинное обучение в бизнесе /toxic_comments.csv'\n",
    "\n",
    "# Альтернативная внутренняя ссылка Практикума\n",
    "way1_pr = '/datasets/toxic_comments.csv'\n",
    "\n",
    "# Загружаем и сохраняем данные из датафреймров в переменные\n",
    "if os.path.exists(way1):\n",
    "    df = pd.read_csv(way1, sep=',', decimal = ',', index_col=[0]) #parse_dates=[0]\n",
    "elif os.path.exists(way1_pr):\n",
    "    df = pd.read_csv(way1_pr, sep=',', decimal = ',', index_col=[0]) #parse_dates=[0]\n",
    "else:\n",
    "    print('Something is wrong')"
   ]
  },
  {
   "cell_type": "markdown",
   "id": "a4977d6a",
   "metadata": {},
   "source": [
    "#### Проверим, что данные в таблице соответствуют описанию"
   ]
  },
  {
   "cell_type": "code",
   "execution_count": 5,
   "id": "7bac0807",
   "metadata": {},
   "outputs": [
    {
     "name": "stdout",
     "output_type": "stream",
     "text": [
      "5 случайных строк датасета\n"
     ]
    },
    {
     "data": {
      "text/html": [
       "<div>\n",
       "<style scoped>\n",
       "    .dataframe tbody tr th:only-of-type {\n",
       "        vertical-align: middle;\n",
       "    }\n",
       "\n",
       "    .dataframe tbody tr th {\n",
       "        vertical-align: top;\n",
       "    }\n",
       "\n",
       "    .dataframe thead th {\n",
       "        text-align: right;\n",
       "    }\n",
       "</style>\n",
       "<table border=\"1\" class=\"dataframe\">\n",
       "  <thead>\n",
       "    <tr style=\"text-align: right;\">\n",
       "      <th></th>\n",
       "      <th>text</th>\n",
       "      <th>toxic</th>\n",
       "    </tr>\n",
       "  </thead>\n",
       "  <tbody>\n",
       "    <tr>\n",
       "      <th>0</th>\n",
       "      <td>Explanation\\nWhy the edits made under my username Hardcore Metallica Fan were reverted? They weren't vandalisms, just closure on some GAs after I voted at New York Dolls FAC. And please don't remove the template from the talk page since I'm retired now.89.205.38.27</td>\n",
       "      <td>0</td>\n",
       "    </tr>\n",
       "    <tr>\n",
       "      <th>1</th>\n",
       "      <td>D'aww! He matches this background colour I'm seemingly stuck with. Thanks.  (talk) 21:51, January 11, 2016 (UTC)</td>\n",
       "      <td>0</td>\n",
       "    </tr>\n",
       "    <tr>\n",
       "      <th>2</th>\n",
       "      <td>Hey man, I'm really not trying to edit war. It's just that this guy is constantly removing relevant information and talking to me through edits instead of my talk page. He seems to care more about the formatting than the actual info.</td>\n",
       "      <td>0</td>\n",
       "    </tr>\n",
       "    <tr>\n",
       "      <th>3</th>\n",
       "      <td>\"\\nMore\\nI can't make any real suggestions on improvement - I wondered if the section statistics should be later on, or a subsection of \"\"types of accidents\"\"  -I think the references may need tidying so that they are all in the exact same format ie date format etc. I can do that later on, if no-one else does first - if you have any preferences for formatting style on references or want to do it yourself please let me know.\\n\\nThere appears to be a backlog on articles for review so I guess there may be a delay until a reviewer turns up. It's listed in the relevant form eg Wikipedia:Good_article_nominations#Transport  \"</td>\n",
       "      <td>0</td>\n",
       "    </tr>\n",
       "    <tr>\n",
       "      <th>4</th>\n",
       "      <td>You, sir, are my hero. Any chance you remember what page that's on?</td>\n",
       "      <td>0</td>\n",
       "    </tr>\n",
       "  </tbody>\n",
       "</table>\n",
       "</div>"
      ],
      "text/plain": [
       "                                                                                                                                                                                                                                                                                                                                                                                                                                                                                                                                                                                                                                                 text  toxic\n",
       "0                                                                                                                                                                                                                                                                                                                                                                           Explanation\\nWhy the edits made under my username Hardcore Metallica Fan were reverted? They weren't vandalisms, just closure on some GAs after I voted at New York Dolls FAC. And please don't remove the template from the talk page since I'm retired now.89.205.38.27      0\n",
       "1                                                                                                                                                                                                                                                                                                                                                                                                                                                                                                                                    D'aww! He matches this background colour I'm seemingly stuck with. Thanks.  (talk) 21:51, January 11, 2016 (UTC)      0\n",
       "2                                                                                                                                                                                                                                                                                                                                                                                                           Hey man, I'm really not trying to edit war. It's just that this guy is constantly removing relevant information and talking to me through edits instead of my talk page. He seems to care more about the formatting than the actual info.      0\n",
       "3  \"\\nMore\\nI can't make any real suggestions on improvement - I wondered if the section statistics should be later on, or a subsection of \"\"types of accidents\"\"  -I think the references may need tidying so that they are all in the exact same format ie date format etc. I can do that later on, if no-one else does first - if you have any preferences for formatting style on references or want to do it yourself please let me know.\\n\\nThere appears to be a backlog on articles for review so I guess there may be a delay until a reviewer turns up. It's listed in the relevant form eg Wikipedia:Good_article_nominations#Transport  \"      0\n",
       "4                                                                                                                                                                                                                                                                                                                                                                                                                                                                                                                                                                                 You, sir, are my hero. Any chance you remember what page that's on?      0"
      ]
     },
     "metadata": {},
     "output_type": "display_data"
    }
   ],
   "source": [
    "# Выводим 5 первых строк датасетa\n",
    "print(f\"5 случайных строк датасета\")\n",
    "display(df.head())"
   ]
  },
  {
   "cell_type": "code",
   "execution_count": 6,
   "id": "c30bbc47-0e40-45ef-ad8c-228a6a0885ab",
   "metadata": {},
   "outputs": [],
   "source": [
    "# Чтобы не создавать эмбеддинги слишком долго, возьмем из выборки только 400 случайных элементов\n",
    "df = df.sample(400).reset_index(drop=True)"
   ]
  },
  {
   "cell_type": "markdown",
   "id": "2d2bd35d",
   "metadata": {},
   "source": [
    "#### Вывод по разделу Загрузка данных\n",
    "\n",
    "Загружены и изучены данные датасета. Данные соответствуют описанию задачи."
   ]
  },
  {
   "cell_type": "markdown",
   "id": "74cc0bdb",
   "metadata": {},
   "source": [
    "### Предобработка данных"
   ]
  },
  {
   "cell_type": "markdown",
   "id": "9477892b",
   "metadata": {},
   "source": [
    "#### Выведем общую информацию о датасете"
   ]
  },
  {
   "cell_type": "code",
   "execution_count": 7,
   "id": "9f754cce",
   "metadata": {},
   "outputs": [
    {
     "name": "stdout",
     "output_type": "stream",
     "text": [
      "Информация о датасете\n",
      "<class 'pandas.core.frame.DataFrame'>\n",
      "RangeIndex: 400 entries, 0 to 399\n",
      "Data columns (total 2 columns):\n",
      " #   Column  Non-Null Count  Dtype \n",
      "---  ------  --------------  ----- \n",
      " 0   text    400 non-null    object\n",
      " 1   toxic   400 non-null    int64 \n",
      "dtypes: int64(1), object(1)\n",
      "memory usage: 6.4+ KB\n",
      "None\n"
     ]
    }
   ],
   "source": [
    "# Выводим информацию о датасете\n",
    "print(f\"Информация о датасете\")\n",
    "print(df.info())"
   ]
  },
  {
   "cell_type": "markdown",
   "id": "12319e08",
   "metadata": {},
   "source": [
    "#### Проверим данные на пропуски"
   ]
  },
  {
   "cell_type": "markdown",
   "id": "fb994125",
   "metadata": {},
   "source": [
    "При выведении общей информации о датасатех, пропуски в данных не были выявлены. Подтвердим это ниже."
   ]
  },
  {
   "cell_type": "code",
   "execution_count": 8,
   "id": "41a98fdf",
   "metadata": {},
   "outputs": [
    {
     "name": "stdout",
     "output_type": "stream",
     "text": [
      "Пропуски в датасете\n",
      "text     0\n",
      "toxic    0\n",
      "dtype: int64\n"
     ]
    }
   ],
   "source": [
    "# Проверяем данные на пропуски\n",
    "print(f\"Пропуски в датасете\")\n",
    "print(df.isna().sum())"
   ]
  },
  {
   "cell_type": "markdown",
   "id": "8a3cf339",
   "metadata": {},
   "source": [
    "#### Проверим наличие дубликатов"
   ]
  },
  {
   "cell_type": "code",
   "execution_count": 9,
   "id": "436ea4f4",
   "metadata": {},
   "outputs": [
    {
     "name": "stdout",
     "output_type": "stream",
     "text": [
      "Наличие полных дубликатов в датасете\n",
      "0\n"
     ]
    }
   ],
   "source": [
    "# Проверяем наличие полных дубликатов\n",
    "print(f\"Наличие полных дубликатов в датасете\")\n",
    "print(df.duplicated().sum())"
   ]
  },
  {
   "cell_type": "markdown",
   "id": "5d74b7e3",
   "metadata": {},
   "source": [
    "#### Вывод по разделу Предобработка данных\n",
    "\n",
    "Проверены данные на наличие пропусков и дубликатов: пропуски и дубликаты отсутствуют."
   ]
  },
  {
   "cell_type": "markdown",
   "id": "dc067336",
   "metadata": {},
   "source": [
    "### Вывод по разделу Шаг 1. Загрузка и подготока данных\n",
    "\n",
    "1. Загружены и изучены данные.  \n",
    "2. Проверены данные на наличие пропусков и дубликатов: пропуски и дубликаты отсутствуют."
   ]
  },
  {
   "cell_type": "markdown",
   "id": "9b02cb58",
   "metadata": {},
   "source": [
    "## Шаг 2. Обучение моделей"
   ]
  },
  {
   "cell_type": "code",
   "execution_count": 10,
   "id": "036942a6",
   "metadata": {},
   "outputs": [],
   "source": [
    "# Инициализация токенизатора\n",
    "#model_name = 'google-bert/bert-base-uncased'  # Английская версия (без учета регистра)\n",
    "model_name = 'unitary/toxic-bert'\n",
    "tokenizer = BertTokenizer.from_pretrained(model_name)\n",
    "model = BertModel.from_pretrained(model_name)"
   ]
  },
  {
   "cell_type": "code",
   "execution_count": 11,
   "id": "758eaa88",
   "metadata": {},
   "outputs": [],
   "source": [
    "# Токенизация текстов\n",
    "\"\"\"\n",
    "   - Каждый твит преобразуется в список идентификаторов токенов.\n",
    "   - `add_special_tokens=True` добавляет специальные токены `[CLS]` (в начале) и `[SEP]` (в конце).\n",
    "\"\"\"\n",
    "tokenized = df['text'].apply(\n",
    "    lambda x: tokenizer.encode(x, add_special_tokens=True, max_length=512, truncation=True))"
   ]
  },
  {
   "cell_type": "code",
   "execution_count": 12,
   "id": "5d212836-7c48-40f9-9b0a-8b22954226dd",
   "metadata": {},
   "outputs": [],
   "source": [
    "# Определение максимальной длины последовательности\n",
    "max_len = 0\n",
    "for i in tokenized.values:\n",
    "    if len(i) > max_len:\n",
    "        max_len = len(i)"
   ]
  },
  {
   "cell_type": "code",
   "execution_count": 13,
   "id": "1c131077-f317-445f-a0c6-f5a847a9f981",
   "metadata": {},
   "outputs": [],
   "source": [
    "# Добавление паддинга (padding)\n",
    "# Каждая последовательность дополняется нулями (ID токена `[PAD]`) до максимальной длины.\n",
    "padded = np.array([i + [0]*(max_len - len(i)) for i in tokenized.values])"
   ]
  },
  {
   "cell_type": "code",
   "execution_count": 14,
   "id": "8ef34eb8-c780-478c-8b04-5aa3e8317361",
   "metadata": {},
   "outputs": [],
   "source": [
    "# Создание маски внимания, где 1 соответствует реальным токенам, а 0 — паддингу\n",
    "attention_mask = np.where(padded != 0, 1, 0)"
   ]
  },
  {
   "cell_type": "code",
   "execution_count": 15,
   "id": "c3fdd5b1-4fe4-4070-89bf-906f823b776e",
   "metadata": {},
   "outputs": [
    {
     "data": {
      "application/vnd.jupyter.widget-view+json": {
       "model_id": "025a76e19cda4869aa59101718941c7f",
       "version_major": 2,
       "version_minor": 0
      },
      "text/plain": [
       "  0%|          | 0/4 [00:00<?, ?it/s]"
      ]
     },
     "metadata": {},
     "output_type": "display_data"
    }
   ],
   "source": [
    "# Получение эмбеддингов текста\n",
    "\"\"\"\n",
    "\t- Разбиваем данные на батчи (по 100 примеров).\n",
    "\t- Для каждого батча:\n",
    "\t- Преобразуем данные в тензоры PyTorch.\n",
    "\t- Пропускаем через модель BERT без вычисления градиентов (т.к. только инференс).\n",
    "\t- Из выхода модели берем только эмбеддинг токена `[CLS]` (первый токен) для каждого примера в батче. Это часто используется как представление всего предложения.\n",
    "\t- Конвертируем в numpy и сохраняем.\n",
    "\t- Собираем все эмбеддинги в один массив\n",
    "\"\"\"\n",
    "batch_size = 100\n",
    "embeddings = []\n",
    "for i in notebook.tqdm(range(padded.shape[0] // batch_size)):\n",
    "        batch = torch.LongTensor(padded[batch_size*i:batch_size*(i+1)]) \n",
    "        attention_mask_batch = torch.LongTensor(attention_mask[batch_size*i:batch_size*(i+1)])\n",
    "        \n",
    "        with torch.no_grad():\n",
    "            batch_embeddings = model(batch, attention_mask=attention_mask_batch)\n",
    "        \n",
    "        embeddings.append(batch_embeddings[0][:,0,:].numpy())\n",
    "\n",
    "features = np.concatenate(embeddings)\n"
   ]
  },
  {
   "cell_type": "code",
   "execution_count": 16,
   "id": "585fd17b-02f2-425e-b2e9-677870b976ee",
   "metadata": {},
   "outputs": [
    {
     "data": {
      "text/plain": [
       "(400, 768)"
      ]
     },
     "metadata": {},
     "output_type": "display_data"
    }
   ],
   "source": [
    "# Подготовка к обучению классификатора\n",
    "display(features.shape)"
   ]
  },
  {
   "cell_type": "code",
   "execution_count": 17,
   "id": "d622ed58-8ad7-49e5-b22a-bd0264304c78",
   "metadata": {},
   "outputs": [],
   "source": [
    "RANDOM_STATE = 42\n",
    "\n",
    "# Разделение данных на обучающую и тестовую выборки\n",
    "X = features\n",
    "y = df['toxic']\n",
    " \n",
    "X_train, X_test, y_train, y_test = train_test_split(\n",
    " X, y, test_size=0.5, random_state=RANDOM_STATE, stratify=y\n",
    ")"
   ]
  },
  {
   "cell_type": "code",
   "execution_count": 18,
   "id": "41946189-bef8-45d2-bf1c-18e428c8a030",
   "metadata": {},
   "outputs": [
    {
     "name": "stdout",
     "output_type": "stream",
     "text": [
      "Лучший F1-score: 0.9455\n",
      "Лучшая модель на кросс-валидации F1-score: Pipeline(steps=[('models',\n",
      "                 LogisticRegression(C=1, random_state=42,\n",
      "                                    solver='newton-cholesky'))])\n"
     ]
    }
   ],
   "source": [
    "# Пайплайн\n",
    "pipeline = Pipeline([\n",
    "    ('models', DecisionTreeClassifier(random_state=RANDOM_STATE))  # заглушка\n",
    "])\n",
    "\n",
    "# Сетка параметров\n",
    "param_grid = [\n",
    "    # словарь для модели DecisionTreeClassifier()\n",
    "    {\n",
    "        'models': [DecisionTreeClassifier(random_state=RANDOM_STATE)],\n",
    "        'models__max_depth': [None] + list(range(3, 20)),  # None для неограниченной глубины\n",
    "        'models__min_samples_split': [2, 5, 10, 20, 30],\n",
    "        'models__min_samples_leaf': [1, 2, 5, 10],\n",
    "        'models__max_features': ['sqrt', 'log2', None],  # Количество признаков для разделения\n",
    "        'models__criterion': ['gini', 'entropy']  # Критерий разделения  \n",
    "    },\n",
    "    # словарь для модели LogisticRegression()\n",
    "    {\n",
    "        'models': [LogisticRegression(random_state=RANDOM_STATE)],\n",
    "        'models__solver': ['lbfgs', 'liblinear', 'newton-cg', 'newton-cholesky', 'sag', 'saga'],\n",
    "        'models__C': [0.5, 1, 2]\n",
    "    },\n",
    "    # Random Forest\n",
    "    {\n",
    "        'models': [RandomForestClassifier(random_state=RANDOM_STATE)],\n",
    "        'models__n_estimators': [100, 200],\n",
    "        'models__max_depth': [None, 10, 20]\n",
    "    }\n",
    "]\n",
    "\n",
    "randomized_search = RandomizedSearchCV(\n",
    "    pipeline, \n",
    "    param_grid,\n",
    "#    n_iter=100,  # Количество комбинаций\n",
    "    cv=5,\n",
    "    scoring='f1',\n",
    "    random_state=RANDOM_STATE,\n",
    "    n_jobs=-1\n",
    ")\n",
    "randomized_search.fit(X_train, y_train)\n",
    "\n",
    "# Лучшая модель и её оценка\n",
    "best_model = randomized_search.best_estimator_\n",
    "best_score = randomized_search.best_score_  # F1-score на кросс-валидации\n",
    "print(f\"Лучший F1-score: {best_score:.4f}\")\n",
    "print(f\"Лучшая модель на кросс-валидации F1-score: {best_model}\")  "
   ]
  },
  {
   "cell_type": "markdown",
   "id": "71abc60a-0009-468a-bf84-cb137abcfeb2",
   "metadata": {},
   "source": [
    "Целевое значение метрики F1 не меньше 0.75. Лучше всего справилась модель Логистической регрессии с F1 0.94 и гиперпараметрами C=1, random_state=42, solver='newton-cholesky'."
   ]
  },
  {
   "cell_type": "code",
   "execution_count": 19,
   "id": "06586761-e017-45e8-9267-a0418392f3fd",
   "metadata": {},
   "outputs": [],
   "source": [
    "# Получаем предсказания для тестовой выборки\n",
    "y_pred = best_model.predict(X_test)"
   ]
  },
  {
   "cell_type": "code",
   "execution_count": 20,
   "id": "05025f23-4160-49a4-a95f-1f5ce2590c5e",
   "metadata": {},
   "outputs": [
    {
     "data": {
      "text/plain": [
       "0.898"
      ]
     },
     "execution_count": 20,
     "metadata": {},
     "output_type": "execute_result"
    }
   ],
   "source": [
    "f1_test = f1_score(y_test, y_pred)\n",
    "round(f1_test, 4)"
   ]
  },
  {
   "cell_type": "markdown",
   "id": "2f641afe-4566-4c98-98a1-229cb4726597",
   "metadata": {},
   "source": [
    "Метрика F1 на тестовой выборке 0,90."
   ]
  },
  {
   "cell_type": "code",
   "execution_count": 21,
   "id": "be9e99de-b982-4a42-953f-994db5fd90d7",
   "metadata": {},
   "outputs": [
    {
     "data": {
      "image/png": "[encoded data removed]",
      "text/plain": [
       "<Figure size 640x480 with 2 Axes>"
      ]
     },
     "metadata": {},
     "output_type": "display_data"
    }
   ],
   "source": [
    "# Вычисляем матрицу ошибок\n",
    "cm = confusion_matrix(y_test, y_pred)\n",
    "\n",
    "# Визуализируем\n",
    "disp = ConfusionMatrixDisplay(\n",
    "    confusion_matrix=cm,\n",
    "    display_labels=['Non-Toxic', 'Toxic']\n",
    ")\n",
    "disp.plot(cmap='Blues', values_format='d')\n",
    "plt.title('Confusion Matrix')\n",
    "plt.grid(False)\n",
    "plt.show()"
   ]
  },
  {
   "cell_type": "markdown",
   "id": "40a2298b-2e4a-4d4d-9644-0661f2eca6d9",
   "metadata": {},
   "source": [
    "В соответсвии с матрицей ошибок:\n",
    "   - Левый верхний элемент (0,0): 173 -> True Negatives (TN): модель предсказала 'Non-Toxic' и это правильно.\n",
    "   - Правый верхний (0,1): 1 -> False Positives (FP): модель предсказала 'Toxic', а на самом деле 'Non-Toxic'.\n",
    "   - Левый нижний (1,0): 4 -> False Negatives (FN): модель предсказала 'Non-Toxic', а на самом деле 'Toxic'.\n",
    "   - Правый нижний (1,1): 22 -> True Positives (TP): модель предсказала 'Toxic' и это правильно."
   ]
  },
  {
   "cell_type": "code",
   "execution_count": 22,
   "id": "962cd1f7-54fa-4845-9374-0fe374acc476",
   "metadata": {},
   "outputs": [
    {
     "data": {
      "image/png": "[encoded data removed]",
      "text/plain": [
       "<Figure size 500x300 with 1 Axes>"
      ]
     },
     "metadata": {},
     "output_type": "display_data"
    }
   ],
   "source": [
    "# Вычисляем количество правильных/неправильных предсказаний\n",
    "error_df = pd.DataFrame({\n",
    "    'Тип': ['Верно', 'Неверно'], \n",
    "    'Количество': [sum(y_test == y_pred), sum(y_test != y_pred)]\n",
    "})\n",
    "\n",
    "# Визуализируем\n",
    "plt.figure(figsize=(5, 3))\n",
    "ax = sns.barplot(x='Тип', y='Количество', data=error_df, palette='viridis')\n",
    "\n",
    "# Настройка отступов\n",
    "max_value = error_df['Количество'].max()\n",
    "plt.ylim(0, max_value * 1.15)  # Добавляем 15% пространства сверху\n",
    "\n",
    "plt.title('Точность прогноза')\n",
    "plt.ylabel('Количество предсказаний')\n",
    "\n",
    "# Добавляем подписи значений\n",
    "for i, count in enumerate(error_df['Количество']):\n",
    "    ax.text(i, count + max_value * 0.03,  # Сдвигаем текст выше столбца\n",
    "            str(count), \n",
    "            ha='center', \n",
    "            fontsize=12,\n",
    "            fontweight='bold')\n",
    "\n",
    "plt.tight_layout()  # Автоматическая оптимизация отступов\n",
    "plt.show()"
   ]
  },
  {
   "cell_type": "code",
   "execution_count": 23,
   "id": "89409e3d-7367-4902-816e-0c9e40601698",
   "metadata": {},
   "outputs": [
    {
     "data": {
      "image/png": "[encoded data removed]",
      "text/plain": [
       "<Figure size 800x400 with 2 Axes>"
      ]
     },
     "metadata": {},
     "output_type": "display_data"
    }
   ],
   "source": [
    "# Создаем DataFrame с вероятностями\n",
    "proba_df = pd.DataFrame(best_model.predict_proba(X_test))\n",
    "proba_df['True'] = y_test.values\n",
    "proba_df['Predicted'] = y_pred\n",
    "\n",
    "# Сортируем по истинным меткам\n",
    "proba_df = proba_df.sort_values('True').reset_index(drop=True)\n",
    "\n",
    "# Визуализируем\n",
    "plt.figure(figsize=(8, 4))\n",
    "sns.heatmap(\n",
    "    proba_df.iloc[:, :-2],  # Только вероятности классов\n",
    "    cmap='coolwarm',\n",
    "    yticklabels=50,\n",
    "    vmin=0,\n",
    "    vmax=1\n",
    ")\n",
    "plt.title('Распределение вероятностей классов')\n",
    "plt.xlabel('Классы')\n",
    "plt.ylabel('Предсказания (отсортированы по истинной метке)')\n",
    "plt.show()"
   ]
  },
  {
   "cell_type": "markdown",
   "id": "ffd602ee",
   "metadata": {},
   "source": [
    "### Вывод по разделу Шаг 2. Обучение и проверка модели для каждого региона\n",
    "С помощью нейронной модели BERT обучены 3 модели. Лучше всего справилась модель Логистической регрессии (метрика F1 0.94) с гиперпараметрами C=1, random_state=42, solver='newton-cholesky'. F1 на тестовой выборге 0,90."
   ]
  },
  {
   "cell_type": "markdown",
   "id": "21dc3939",
   "metadata": {},
   "source": [
    "## ОБЩИЙ ВЫВОД \n",
    "\n",
    "1. Загружены и подготовлены данные: проведены этапы загрузки и предобработки данных.\n",
    "\n",
    "2. С помощью нейронной модели BERT обучены 3 модели. Лучше всего справилась модель Логистической регрессии (метрика F1 0.94) с гиперпараметрами C=1, random_state=42, solver='newton-cholesky'. F1 на тестовой выборге 0,90."
   ]
  }
 ],
 "metadata": {
  "ExecuteTimeLog": [
   {
    "duration": 55,
    "start_time": "2025-04-24T17:14:18.240Z"
   },
   {
    "duration": 94,
    "start_time": "2025-04-24T20:12:08.821Z"
   },
   {
    "duration": 10786,
    "start_time": "2025-04-24T20:15:17.422Z"
   },
   {
    "duration": 1675,
    "start_time": "2025-04-24T20:15:28.210Z"
   },
   {
    "duration": 4,
    "start_time": "2025-04-24T20:15:29.887Z"
   },
   {
    "duration": 101,
    "start_time": "2025-04-24T20:15:29.892Z"
   },
   {
    "duration": 18,
    "start_time": "2025-04-24T20:15:29.996Z"
   },
   {
    "duration": 56,
    "start_time": "2025-04-24T20:15:30.016Z"
   },
   {
    "duration": 104,
    "start_time": "2025-04-24T20:15:30.074Z"
   },
   {
    "duration": 110,
    "start_time": "2025-04-24T20:15:30.180Z"
   },
   {
    "duration": 33,
    "start_time": "2025-04-24T20:15:30.292Z"
   },
   {
    "duration": 69,
    "start_time": "2025-04-24T20:15:30.326Z"
   },
   {
    "duration": 101,
    "start_time": "2025-04-24T20:15:30.397Z"
   },
   {
    "duration": 42,
    "start_time": "2025-04-24T20:15:30.500Z"
   },
   {
    "duration": 45,
    "start_time": "2025-04-24T20:15:30.543Z"
   },
   {
    "duration": 55,
    "start_time": "2025-04-24T20:15:30.591Z"
   },
   {
    "duration": 6,
    "start_time": "2025-04-24T20:17:17.242Z"
   },
   {
    "duration": 3,
    "start_time": "2025-04-24T20:20:38.121Z"
   },
   {
    "duration": 5860,
    "start_time": "2025-04-24T20:23:37.412Z"
   },
   {
    "duration": 6,
    "start_time": "2025-04-24T20:23:43.274Z"
   },
   {
    "duration": 62,
    "start_time": "2025-04-24T20:23:43.281Z"
   },
   {
    "duration": 83,
    "start_time": "2025-04-24T20:23:43.345Z"
   },
   {
    "duration": 13,
    "start_time": "2025-04-24T20:23:43.430Z"
   },
   {
    "duration": 16,
    "start_time": "2025-04-24T20:23:43.444Z"
   },
   {
    "duration": 33,
    "start_time": "2025-04-24T20:23:43.462Z"
   },
   {
    "duration": 34,
    "start_time": "2025-04-24T20:23:43.496Z"
   },
   {
    "duration": 10,
    "start_time": "2025-04-24T20:23:43.532Z"
   },
   {
    "duration": 13,
    "start_time": "2025-04-24T20:23:43.544Z"
   },
   {
    "duration": 4,
    "start_time": "2025-04-24T20:23:43.559Z"
   },
   {
    "duration": 56,
    "start_time": "2025-04-24T20:23:43.565Z"
   },
   {
    "duration": 14,
    "start_time": "2025-04-24T20:23:43.623Z"
   },
   {
    "duration": 15,
    "start_time": "2025-04-24T20:23:43.640Z"
   },
   {
    "duration": 10,
    "start_time": "2025-04-24T20:23:43.657Z"
   },
   {
    "duration": 43,
    "start_time": "2025-04-24T20:23:43.669Z"
   },
   {
    "duration": 2,
    "start_time": "2025-04-24T20:23:43.714Z"
   },
   {
    "duration": 45,
    "start_time": "2025-04-24T20:23:43.718Z"
   },
   {
    "duration": 13,
    "start_time": "2025-04-24T20:23:43.764Z"
   },
   {
    "duration": 38,
    "start_time": "2025-04-24T20:23:43.779Z"
   },
   {
    "duration": 10,
    "start_time": "2025-04-24T20:23:43.819Z"
   },
   {
    "duration": 24,
    "start_time": "2025-04-24T20:23:43.830Z"
   },
   {
    "duration": 9,
    "start_time": "2025-04-24T20:23:43.856Z"
   },
   {
    "duration": 1413,
    "start_time": "2025-04-24T20:23:43.866Z"
   },
   {
    "duration": 4,
    "start_time": "2025-04-24T20:23:45.281Z"
   },
   {
    "duration": 1445,
    "start_time": "2025-04-24T20:23:45.287Z"
   },
   {
    "duration": 1035,
    "start_time": "2025-04-24T20:23:46.734Z"
   },
   {
    "duration": 1147,
    "start_time": "2025-04-24T20:23:47.771Z"
   },
   {
    "duration": 699,
    "start_time": "2025-04-24T20:23:48.920Z"
   },
   {
    "duration": 1042,
    "start_time": "2025-04-24T20:29:29.192Z"
   },
   {
    "duration": 858,
    "start_time": "2025-04-24T20:29:32.472Z"
   },
   {
    "duration": 10,
    "start_time": "2025-04-24T20:35:47.240Z"
   },
   {
    "duration": 20,
    "start_time": "2025-04-24T20:35:56.111Z"
   },
   {
    "duration": 14,
    "start_time": "2025-04-24T20:36:03.871Z"
   },
   {
    "duration": 34,
    "start_time": "2025-04-24T20:36:10.800Z"
   },
   {
    "duration": 4,
    "start_time": "2025-04-24T20:36:16.720Z"
   },
   {
    "duration": 5,
    "start_time": "2025-04-24T20:36:23.460Z"
   },
   {
    "duration": 10430,
    "start_time": "2025-04-24T20:42:13.359Z"
   },
   {
    "duration": 51,
    "start_time": "2025-04-24T20:43:27.849Z"
   },
   {
    "duration": 10,
    "start_time": "2025-04-24T20:49:58.089Z"
   },
   {
    "duration": 1139,
    "start_time": "2025-04-24T21:01:27.178Z"
   },
   {
    "duration": 10,
    "start_time": "2025-04-24T21:18:48.244Z"
   },
   {
    "duration": 123,
    "start_time": "2025-04-24T21:19:21.854Z"
   },
   {
    "duration": 10,
    "start_time": "2025-04-24T21:23:16.234Z"
   },
   {
    "duration": 2635,
    "start_time": "2025-04-24T21:23:43.904Z"
   },
   {
    "duration": 2245,
    "start_time": "2025-04-24T21:25:20.765Z"
   },
   {
    "duration": 552,
    "start_time": "2025-04-24T21:25:40.365Z"
   },
   {
    "duration": 2,
    "start_time": "2025-04-24T21:26:16.305Z"
   },
   {
    "duration": 6064,
    "start_time": "2025-04-24T21:41:50.273Z"
   },
   {
    "duration": 1312,
    "start_time": "2025-04-24T21:41:56.340Z"
   },
   {
    "duration": 2,
    "start_time": "2025-04-24T21:41:57.654Z"
   },
   {
    "duration": 127,
    "start_time": "2025-04-24T21:41:57.657Z"
   },
   {
    "duration": 15,
    "start_time": "2025-04-24T21:41:57.787Z"
   },
   {
    "duration": 34,
    "start_time": "2025-04-24T21:41:57.803Z"
   },
   {
    "duration": 13,
    "start_time": "2025-04-24T21:41:57.838Z"
   },
   {
    "duration": 46,
    "start_time": "2025-04-24T21:41:57.853Z"
   },
   {
    "duration": 9,
    "start_time": "2025-04-24T21:41:57.900Z"
   },
   {
    "duration": 40,
    "start_time": "2025-04-24T21:41:57.910Z"
   },
   {
    "duration": 17,
    "start_time": "2025-04-24T21:41:57.952Z"
   },
   {
    "duration": 33,
    "start_time": "2025-04-24T21:41:57.971Z"
   },
   {
    "duration": 40,
    "start_time": "2025-04-24T21:41:58.006Z"
   },
   {
    "duration": 38,
    "start_time": "2025-04-24T21:41:58.049Z"
   },
   {
    "duration": 8,
    "start_time": "2025-04-24T21:41:58.089Z"
   },
   {
    "duration": 27,
    "start_time": "2025-04-24T21:41:58.099Z"
   },
   {
    "duration": 2,
    "start_time": "2025-04-24T21:41:58.128Z"
   },
   {
    "duration": 57,
    "start_time": "2025-04-24T21:41:58.132Z"
   },
   {
    "duration": 17,
    "start_time": "2025-04-24T21:41:58.191Z"
   },
   {
    "duration": 25,
    "start_time": "2025-04-24T21:41:58.209Z"
   },
   {
    "duration": 10,
    "start_time": "2025-04-24T21:41:58.236Z"
   },
   {
    "duration": 29,
    "start_time": "2025-04-24T21:41:58.248Z"
   },
   {
    "duration": 30,
    "start_time": "2025-04-24T21:41:58.279Z"
   },
   {
    "duration": 2519,
    "start_time": "2025-04-24T21:41:58.311Z"
   },
   {
    "duration": 2101,
    "start_time": "2025-04-24T21:42:00.832Z"
   },
   {
    "duration": 682,
    "start_time": "2025-04-24T21:42:02.934Z"
   },
   {
    "duration": 1062,
    "start_time": "2025-04-24T21:42:03.618Z"
   },
   {
    "duration": 918,
    "start_time": "2025-04-24T21:42:04.682Z"
   },
   {
    "duration": 9,
    "start_time": "2025-04-24T21:42:05.605Z"
   },
   {
    "duration": 77,
    "start_time": "2025-04-24T21:42:05.616Z"
   },
   {
    "duration": 84,
    "start_time": "2025-04-24T21:42:05.694Z"
   },
   {
    "duration": 104,
    "start_time": "2025-04-24T21:42:05.780Z"
   },
   {
    "duration": 19,
    "start_time": "2025-04-24T21:42:05.885Z"
   },
   {
    "duration": 11,
    "start_time": "2025-04-24T21:42:05.906Z"
   },
   {
    "duration": 10444,
    "start_time": "2025-04-24T21:42:05.919Z"
   },
   {
    "duration": 64,
    "start_time": "2025-04-24T21:42:16.365Z"
   },
   {
    "duration": 12,
    "start_time": "2025-04-24T21:42:16.431Z"
   },
   {
    "duration": 50,
    "start_time": "2025-04-24T21:42:16.445Z"
   },
   {
    "duration": 11,
    "start_time": "2025-04-24T21:42:16.497Z"
   },
   {
    "duration": 11,
    "start_time": "2025-04-24T21:42:16.509Z"
   },
   {
    "duration": 41,
    "start_time": "2025-04-24T21:42:16.524Z"
   },
   {
    "duration": 20,
    "start_time": "2025-04-24T21:42:16.567Z"
   },
   {
    "duration": 3,
    "start_time": "2025-04-24T21:42:16.589Z"
   },
   {
    "duration": 25,
    "start_time": "2025-04-24T21:42:16.594Z"
   },
   {
    "duration": 15,
    "start_time": "2025-04-24T21:42:16.621Z"
   },
   {
    "duration": 8,
    "start_time": "2025-04-24T21:42:16.638Z"
   },
   {
    "duration": 10,
    "start_time": "2025-04-24T21:42:16.648Z"
   },
   {
    "duration": 5,
    "start_time": "2025-04-24T21:42:16.660Z"
   },
   {
    "duration": 39,
    "start_time": "2025-04-24T21:42:16.667Z"
   },
   {
    "duration": 12,
    "start_time": "2025-04-24T21:42:16.708Z"
   },
   {
    "duration": 84,
    "start_time": "2025-04-24T21:42:16.722Z"
   },
   {
    "duration": 132,
    "start_time": "2025-04-24T21:42:16.808Z"
   },
   {
    "duration": 0,
    "start_time": "2025-04-24T21:42:16.942Z"
   },
   {
    "duration": 0,
    "start_time": "2025-04-24T21:42:16.943Z"
   },
   {
    "duration": 0,
    "start_time": "2025-04-24T21:42:16.945Z"
   },
   {
    "duration": 0,
    "start_time": "2025-04-24T21:42:16.946Z"
   },
   {
    "duration": 0,
    "start_time": "2025-04-24T21:42:16.947Z"
   },
   {
    "duration": 0,
    "start_time": "2025-04-24T21:42:16.948Z"
   },
   {
    "duration": 0,
    "start_time": "2025-04-24T21:42:16.950Z"
   },
   {
    "duration": 0,
    "start_time": "2025-04-24T21:42:16.951Z"
   },
   {
    "duration": 0,
    "start_time": "2025-04-24T21:42:16.952Z"
   },
   {
    "duration": 0,
    "start_time": "2025-04-24T21:42:16.953Z"
   },
   {
    "duration": 0,
    "start_time": "2025-04-24T21:42:16.955Z"
   },
   {
    "duration": 0,
    "start_time": "2025-04-24T21:42:16.956Z"
   },
   {
    "duration": 0,
    "start_time": "2025-04-24T21:42:16.957Z"
   },
   {
    "duration": 0,
    "start_time": "2025-04-24T21:42:16.958Z"
   },
   {
    "duration": 0,
    "start_time": "2025-04-24T21:42:16.959Z"
   },
   {
    "duration": 0,
    "start_time": "2025-04-24T21:42:16.960Z"
   },
   {
    "duration": 0,
    "start_time": "2025-04-24T21:42:16.961Z"
   },
   {
    "duration": 0,
    "start_time": "2025-04-24T21:42:16.962Z"
   },
   {
    "duration": 0,
    "start_time": "2025-04-24T21:42:16.963Z"
   },
   {
    "duration": 2512,
    "start_time": "2025-04-24T21:44:59.412Z"
   },
   {
    "duration": 207,
    "start_time": "2025-04-24T21:45:37.622Z"
   },
   {
    "duration": 238,
    "start_time": "2025-04-24T21:46:06.592Z"
   },
   {
    "duration": 1036,
    "start_time": "2025-04-24T21:46:06.832Z"
   },
   {
    "duration": 1149,
    "start_time": "2025-04-24T21:46:07.869Z"
   },
   {
    "duration": 3,
    "start_time": "2025-04-24T21:46:09.020Z"
   },
   {
    "duration": 120,
    "start_time": "2025-04-24T21:46:09.026Z"
   },
   {
    "duration": 20,
    "start_time": "2025-04-24T21:46:09.148Z"
   },
   {
    "duration": 0,
    "start_time": "2025-04-24T21:46:09.170Z"
   },
   {
    "duration": 0,
    "start_time": "2025-04-24T21:46:09.172Z"
   },
   {
    "duration": 0,
    "start_time": "2025-04-24T21:46:09.173Z"
   },
   {
    "duration": 0,
    "start_time": "2025-04-24T21:46:09.174Z"
   },
   {
    "duration": 0,
    "start_time": "2025-04-24T21:46:09.175Z"
   },
   {
    "duration": 0,
    "start_time": "2025-04-24T21:46:09.176Z"
   },
   {
    "duration": 0,
    "start_time": "2025-04-24T21:46:09.177Z"
   },
   {
    "duration": 0,
    "start_time": "2025-04-24T21:46:09.178Z"
   },
   {
    "duration": 0,
    "start_time": "2025-04-24T21:46:09.180Z"
   },
   {
    "duration": 0,
    "start_time": "2025-04-24T21:46:09.181Z"
   },
   {
    "duration": 0,
    "start_time": "2025-04-24T21:46:09.205Z"
   },
   {
    "duration": 0,
    "start_time": "2025-04-24T21:46:09.206Z"
   },
   {
    "duration": 1858,
    "start_time": "2025-04-24T21:46:50.361Z"
   },
   {
    "duration": 24,
    "start_time": "2025-04-24T21:48:18.882Z"
   },
   {
    "duration": 11,
    "start_time": "2025-04-24T21:50:15.671Z"
   },
   {
    "duration": 170,
    "start_time": "2025-04-24T21:51:45.101Z"
   },
   {
    "duration": 174,
    "start_time": "2025-04-24T21:52:59.781Z"
   },
   {
    "duration": 10,
    "start_time": "2025-04-24T21:52:59.957Z"
   },
   {
    "duration": 354,
    "start_time": "2025-04-24T21:52:59.969Z"
   },
   {
    "duration": 31,
    "start_time": "2025-04-24T21:53:00.324Z"
   },
   {
    "duration": 49,
    "start_time": "2025-04-24T21:53:00.358Z"
   },
   {
    "duration": 8,
    "start_time": "2025-04-24T21:53:00.409Z"
   },
   {
    "duration": 34,
    "start_time": "2025-04-24T21:53:00.418Z"
   },
   {
    "duration": 31,
    "start_time": "2025-04-24T21:53:00.453Z"
   },
   {
    "duration": 20,
    "start_time": "2025-04-24T21:53:00.486Z"
   },
   {
    "duration": 48,
    "start_time": "2025-04-24T21:53:00.507Z"
   },
   {
    "duration": 25369,
    "start_time": "2025-04-24T21:53:00.556Z"
   },
   {
    "duration": 14,
    "start_time": "2025-04-24T21:53:25.927Z"
   },
   {
    "duration": 904,
    "start_time": "2025-04-24T22:10:00.930Z"
   },
   {
    "duration": 10,
    "start_time": "2025-04-24T22:13:06.381Z"
   },
   {
    "duration": 11,
    "start_time": "2025-04-24T22:14:16.271Z"
   },
   {
    "duration": 11,
    "start_time": "2025-04-24T22:14:28.172Z"
   },
   {
    "duration": 11,
    "start_time": "2025-04-24T22:14:59.132Z"
   },
   {
    "duration": 277,
    "start_time": "2025-04-24T22:18:26.024Z"
   },
   {
    "duration": 254,
    "start_time": "2025-04-24T22:21:35.076Z"
   },
   {
    "duration": 5931,
    "start_time": "2025-04-24T22:26:54.184Z"
   },
   {
    "duration": 1430,
    "start_time": "2025-04-24T22:27:00.118Z"
   },
   {
    "duration": 3,
    "start_time": "2025-04-24T22:27:01.550Z"
   },
   {
    "duration": 119,
    "start_time": "2025-04-24T22:27:01.555Z"
   },
   {
    "duration": 16,
    "start_time": "2025-04-24T22:27:01.676Z"
   },
   {
    "duration": 38,
    "start_time": "2025-04-24T22:27:01.694Z"
   },
   {
    "duration": 13,
    "start_time": "2025-04-24T22:27:01.733Z"
   },
   {
    "duration": 36,
    "start_time": "2025-04-24T22:27:01.748Z"
   },
   {
    "duration": 19,
    "start_time": "2025-04-24T22:27:01.786Z"
   },
   {
    "duration": 151,
    "start_time": "2025-04-24T22:27:01.807Z"
   },
   {
    "duration": 9,
    "start_time": "2025-04-24T22:27:01.960Z"
   },
   {
    "duration": 47,
    "start_time": "2025-04-24T22:27:01.970Z"
   },
   {
    "duration": 13,
    "start_time": "2025-04-24T22:27:02.019Z"
   },
   {
    "duration": 16,
    "start_time": "2025-04-24T22:27:02.034Z"
   },
   {
    "duration": 5,
    "start_time": "2025-04-24T22:27:02.052Z"
   },
   {
    "duration": 47,
    "start_time": "2025-04-24T22:27:02.058Z"
   },
   {
    "duration": 15,
    "start_time": "2025-04-24T22:27:02.107Z"
   },
   {
    "duration": 45,
    "start_time": "2025-04-24T22:27:02.123Z"
   },
   {
    "duration": 13,
    "start_time": "2025-04-24T22:27:02.170Z"
   },
   {
    "duration": 30,
    "start_time": "2025-04-24T22:27:02.185Z"
   },
   {
    "duration": 20,
    "start_time": "2025-04-24T22:27:02.217Z"
   },
   {
    "duration": 30,
    "start_time": "2025-04-24T22:27:02.238Z"
   },
   {
    "duration": 19,
    "start_time": "2025-04-24T22:27:02.269Z"
   },
   {
    "duration": 2615,
    "start_time": "2025-04-24T22:27:02.290Z"
   },
   {
    "duration": 2216,
    "start_time": "2025-04-24T22:27:04.907Z"
   },
   {
    "duration": 723,
    "start_time": "2025-04-24T22:27:07.124Z"
   },
   {
    "duration": 1056,
    "start_time": "2025-04-24T22:27:07.849Z"
   },
   {
    "duration": 898,
    "start_time": "2025-04-24T22:27:08.909Z"
   },
   {
    "duration": 9,
    "start_time": "2025-04-24T22:27:09.809Z"
   },
   {
    "duration": 50,
    "start_time": "2025-04-24T22:27:09.819Z"
   },
   {
    "duration": 78,
    "start_time": "2025-04-24T22:27:09.871Z"
   },
   {
    "duration": 34,
    "start_time": "2025-04-24T22:27:09.950Z"
   },
   {
    "duration": 4,
    "start_time": "2025-04-24T22:27:09.986Z"
   },
   {
    "duration": 23,
    "start_time": "2025-04-24T22:27:09.991Z"
   },
   {
    "duration": 11185,
    "start_time": "2025-04-24T22:27:10.016Z"
   },
   {
    "duration": 51,
    "start_time": "2025-04-24T22:27:21.204Z"
   },
   {
    "duration": 12,
    "start_time": "2025-04-24T22:27:21.256Z"
   },
   {
    "duration": 61,
    "start_time": "2025-04-24T22:27:21.270Z"
   },
   {
    "duration": 11,
    "start_time": "2025-04-24T22:27:21.333Z"
   },
   {
    "duration": 21,
    "start_time": "2025-04-24T22:27:21.345Z"
   },
   {
    "duration": 50,
    "start_time": "2025-04-24T22:27:21.368Z"
   },
   {
    "duration": 12,
    "start_time": "2025-04-24T22:27:21.420Z"
   },
   {
    "duration": 16,
    "start_time": "2025-04-24T22:27:21.433Z"
   },
   {
    "duration": 50,
    "start_time": "2025-04-24T22:27:21.451Z"
   },
   {
    "duration": 7,
    "start_time": "2025-04-24T22:27:21.503Z"
   },
   {
    "duration": 18,
    "start_time": "2025-04-24T22:27:21.511Z"
   },
   {
    "duration": 26,
    "start_time": "2025-04-24T22:27:21.531Z"
   },
   {
    "duration": 7,
    "start_time": "2025-04-24T22:27:21.558Z"
   },
   {
    "duration": 34,
    "start_time": "2025-04-24T22:27:21.566Z"
   },
   {
    "duration": 28,
    "start_time": "2025-04-24T22:27:21.601Z"
   },
   {
    "duration": 15,
    "start_time": "2025-04-24T22:27:21.631Z"
   },
   {
    "duration": 2478,
    "start_time": "2025-04-24T22:27:21.648Z"
   },
   {
    "duration": 216,
    "start_time": "2025-04-24T22:27:24.127Z"
   },
   {
    "duration": 1070,
    "start_time": "2025-04-24T22:27:24.345Z"
   },
   {
    "duration": 916,
    "start_time": "2025-04-24T22:27:25.417Z"
   },
   {
    "duration": 3,
    "start_time": "2025-04-24T22:27:26.334Z"
   },
   {
    "duration": 45,
    "start_time": "2025-04-24T22:27:26.339Z"
   },
   {
    "duration": 2354,
    "start_time": "2025-04-24T22:27:26.386Z"
   },
   {
    "duration": 384,
    "start_time": "2025-04-24T22:27:28.742Z"
   },
   {
    "duration": 14,
    "start_time": "2025-04-24T22:27:29.128Z"
   },
   {
    "duration": 560,
    "start_time": "2025-04-24T22:27:29.145Z"
   },
   {
    "duration": 32,
    "start_time": "2025-04-24T22:27:29.706Z"
   },
   {
    "duration": 27,
    "start_time": "2025-04-24T22:27:29.739Z"
   },
   {
    "duration": 9,
    "start_time": "2025-04-24T22:27:29.768Z"
   },
   {
    "duration": 52,
    "start_time": "2025-04-24T22:27:29.778Z"
   },
   {
    "duration": 8,
    "start_time": "2025-04-24T22:27:29.832Z"
   },
   {
    "duration": 89,
    "start_time": "2025-04-24T22:27:29.842Z"
   },
   {
    "duration": 31,
    "start_time": "2025-04-24T22:27:29.932Z"
   },
   {
    "duration": 26364,
    "start_time": "2025-04-24T22:27:29.965Z"
   },
   {
    "duration": 15,
    "start_time": "2025-04-24T22:27:56.331Z"
   },
   {
    "duration": 1446,
    "start_time": "2025-04-26T06:07:36.995Z"
   },
   {
    "duration": 9791,
    "start_time": "2025-04-26T06:14:35.229Z"
   },
   {
    "duration": 1311,
    "start_time": "2025-04-26T06:14:45.022Z"
   },
   {
    "duration": 3,
    "start_time": "2025-04-26T06:14:46.335Z"
   },
   {
    "duration": 73,
    "start_time": "2025-04-26T06:14:46.340Z"
   },
   {
    "duration": 14,
    "start_time": "2025-04-26T06:14:46.415Z"
   },
   {
    "duration": 9,
    "start_time": "2025-04-26T06:14:46.431Z"
   },
   {
    "duration": 6,
    "start_time": "2025-04-26T06:14:46.441Z"
   },
   {
    "duration": 44,
    "start_time": "2025-04-26T06:14:46.448Z"
   },
   {
    "duration": 9,
    "start_time": "2025-04-26T06:14:46.493Z"
   },
   {
    "duration": 36,
    "start_time": "2025-04-26T06:14:46.505Z"
   },
   {
    "duration": 3,
    "start_time": "2025-04-26T06:14:46.543Z"
   },
   {
    "duration": 19,
    "start_time": "2025-04-26T06:14:46.547Z"
   },
   {
    "duration": 12,
    "start_time": "2025-04-26T06:14:46.568Z"
   },
   {
    "duration": 16,
    "start_time": "2025-04-26T06:14:46.581Z"
   },
   {
    "duration": 5,
    "start_time": "2025-04-26T06:14:46.599Z"
   },
   {
    "duration": 41,
    "start_time": "2025-04-26T06:14:46.605Z"
   },
   {
    "duration": 2,
    "start_time": "2025-04-26T06:14:46.648Z"
   },
   {
    "duration": 26,
    "start_time": "2025-04-26T06:14:46.651Z"
   },
   {
    "duration": 11,
    "start_time": "2025-04-26T06:14:46.679Z"
   },
   {
    "duration": 56,
    "start_time": "2025-04-26T06:14:46.691Z"
   },
   {
    "duration": 9,
    "start_time": "2025-04-26T06:14:46.749Z"
   },
   {
    "duration": 16,
    "start_time": "2025-04-26T06:14:46.760Z"
   },
   {
    "duration": 9,
    "start_time": "2025-04-26T06:14:46.777Z"
   },
   {
    "duration": 2461,
    "start_time": "2025-04-26T06:14:46.787Z"
   },
   {
    "duration": 1999,
    "start_time": "2025-04-26T06:14:49.250Z"
   },
   {
    "duration": 611,
    "start_time": "2025-04-26T06:14:51.251Z"
   },
   {
    "duration": 1017,
    "start_time": "2025-04-26T06:14:51.864Z"
   },
   {
    "duration": 802,
    "start_time": "2025-04-26T06:14:52.885Z"
   },
   {
    "duration": 9,
    "start_time": "2025-04-26T06:14:53.689Z"
   },
   {
    "duration": 29,
    "start_time": "2025-04-26T06:14:53.700Z"
   },
   {
    "duration": 16,
    "start_time": "2025-04-26T06:14:53.737Z"
   },
   {
    "duration": 51,
    "start_time": "2025-04-26T06:14:53.754Z"
   },
   {
    "duration": 52,
    "start_time": "2025-04-26T06:14:53.807Z"
   },
   {
    "duration": 24,
    "start_time": "2025-04-26T06:14:53.860Z"
   },
   {
    "duration": 9264,
    "start_time": "2025-04-26T06:14:53.886Z"
   },
   {
    "duration": 47,
    "start_time": "2025-04-26T06:15:03.151Z"
   },
   {
    "duration": 129,
    "start_time": "2025-04-26T06:15:03.200Z"
   },
   {
    "duration": 0,
    "start_time": "2025-04-26T06:15:03.330Z"
   },
   {
    "duration": 0,
    "start_time": "2025-04-26T06:15:03.331Z"
   },
   {
    "duration": 0,
    "start_time": "2025-04-26T06:15:03.332Z"
   },
   {
    "duration": 0,
    "start_time": "2025-04-26T06:15:03.336Z"
   },
   {
    "duration": 0,
    "start_time": "2025-04-26T06:15:03.337Z"
   },
   {
    "duration": 0,
    "start_time": "2025-04-26T06:15:03.339Z"
   },
   {
    "duration": 0,
    "start_time": "2025-04-26T06:15:03.340Z"
   },
   {
    "duration": 0,
    "start_time": "2025-04-26T06:15:03.341Z"
   },
   {
    "duration": 0,
    "start_time": "2025-04-26T06:15:03.342Z"
   },
   {
    "duration": 0,
    "start_time": "2025-04-26T06:15:03.343Z"
   },
   {
    "duration": 0,
    "start_time": "2025-04-26T06:15:03.344Z"
   },
   {
    "duration": 0,
    "start_time": "2025-04-26T06:15:03.346Z"
   },
   {
    "duration": 0,
    "start_time": "2025-04-26T06:15:03.346Z"
   },
   {
    "duration": 0,
    "start_time": "2025-04-26T06:15:03.347Z"
   },
   {
    "duration": 0,
    "start_time": "2025-04-26T06:15:03.349Z"
   },
   {
    "duration": 0,
    "start_time": "2025-04-26T06:15:03.349Z"
   },
   {
    "duration": 0,
    "start_time": "2025-04-26T06:15:03.351Z"
   },
   {
    "duration": 0,
    "start_time": "2025-04-26T06:15:03.351Z"
   },
   {
    "duration": 0,
    "start_time": "2025-04-26T06:15:03.352Z"
   },
   {
    "duration": 0,
    "start_time": "2025-04-26T06:15:03.354Z"
   },
   {
    "duration": 0,
    "start_time": "2025-04-26T06:15:03.355Z"
   },
   {
    "duration": 0,
    "start_time": "2025-04-26T06:15:03.356Z"
   },
   {
    "duration": 0,
    "start_time": "2025-04-26T06:15:03.357Z"
   },
   {
    "duration": 0,
    "start_time": "2025-04-26T06:15:03.358Z"
   },
   {
    "duration": 0,
    "start_time": "2025-04-26T06:15:03.359Z"
   },
   {
    "duration": 0,
    "start_time": "2025-04-26T06:15:03.360Z"
   },
   {
    "duration": 0,
    "start_time": "2025-04-26T06:15:03.361Z"
   },
   {
    "duration": 0,
    "start_time": "2025-04-26T06:15:03.362Z"
   },
   {
    "duration": 0,
    "start_time": "2025-04-26T06:15:03.363Z"
   },
   {
    "duration": 0,
    "start_time": "2025-04-26T06:15:03.364Z"
   },
   {
    "duration": 0,
    "start_time": "2025-04-26T06:15:03.365Z"
   },
   {
    "duration": 0,
    "start_time": "2025-04-26T06:15:03.366Z"
   },
   {
    "duration": 0,
    "start_time": "2025-04-26T06:15:03.367Z"
   },
   {
    "duration": 5,
    "start_time": "2025-04-26T06:18:23.539Z"
   },
   {
    "duration": 5,
    "start_time": "2025-04-26T06:18:39.368Z"
   },
   {
    "duration": 5956,
    "start_time": "2025-04-26T06:21:48.195Z"
   },
   {
    "duration": 1274,
    "start_time": "2025-04-26T06:21:54.153Z"
   },
   {
    "duration": 3,
    "start_time": "2025-04-26T06:21:55.428Z"
   },
   {
    "duration": 101,
    "start_time": "2025-04-26T06:21:55.437Z"
   },
   {
    "duration": 16,
    "start_time": "2025-04-26T06:21:55.539Z"
   },
   {
    "duration": 24,
    "start_time": "2025-04-26T06:21:55.557Z"
   },
   {
    "duration": 15,
    "start_time": "2025-04-26T06:21:55.582Z"
   },
   {
    "duration": 51,
    "start_time": "2025-04-26T06:21:55.599Z"
   },
   {
    "duration": 16,
    "start_time": "2025-04-26T06:21:55.652Z"
   },
   {
    "duration": 62,
    "start_time": "2025-04-26T06:21:55.670Z"
   },
   {
    "duration": 13,
    "start_time": "2025-04-26T06:21:55.734Z"
   },
   {
    "duration": 29,
    "start_time": "2025-04-26T06:21:55.748Z"
   },
   {
    "duration": 17,
    "start_time": "2025-04-26T06:21:55.779Z"
   },
   {
    "duration": 43,
    "start_time": "2025-04-26T06:21:55.798Z"
   },
   {
    "duration": 58,
    "start_time": "2025-04-26T06:21:55.844Z"
   },
   {
    "duration": 36,
    "start_time": "2025-04-26T06:21:55.904Z"
   },
   {
    "duration": 3,
    "start_time": "2025-04-26T06:21:55.942Z"
   },
   {
    "duration": 55,
    "start_time": "2025-04-26T06:21:55.947Z"
   },
   {
    "duration": 11,
    "start_time": "2025-04-26T06:21:56.004Z"
   },
   {
    "duration": 39,
    "start_time": "2025-04-26T06:21:56.016Z"
   },
   {
    "duration": 12,
    "start_time": "2025-04-26T06:21:56.056Z"
   },
   {
    "duration": 38,
    "start_time": "2025-04-26T06:21:56.070Z"
   },
   {
    "duration": 12,
    "start_time": "2025-04-26T06:21:56.110Z"
   },
   {
    "duration": 2427,
    "start_time": "2025-04-26T06:21:56.124Z"
   },
   {
    "duration": 2000,
    "start_time": "2025-04-26T06:21:58.553Z"
   },
   {
    "duration": 609,
    "start_time": "2025-04-26T06:22:00.555Z"
   },
   {
    "duration": 1042,
    "start_time": "2025-04-26T06:22:01.166Z"
   },
   {
    "duration": 789,
    "start_time": "2025-04-26T06:22:02.213Z"
   },
   {
    "duration": 10,
    "start_time": "2025-04-26T06:22:03.004Z"
   },
   {
    "duration": 41,
    "start_time": "2025-04-26T06:22:03.015Z"
   },
   {
    "duration": 12,
    "start_time": "2025-04-26T06:22:03.058Z"
   },
   {
    "duration": 62,
    "start_time": "2025-04-26T06:22:03.072Z"
   },
   {
    "duration": 6,
    "start_time": "2025-04-26T06:22:03.136Z"
   },
   {
    "duration": 10,
    "start_time": "2025-04-26T06:22:03.144Z"
   },
   {
    "duration": 9527,
    "start_time": "2025-04-26T06:22:03.156Z"
   },
   {
    "duration": 62,
    "start_time": "2025-04-26T06:22:12.685Z"
   },
   {
    "duration": 5,
    "start_time": "2025-04-26T06:22:12.749Z"
   },
   {
    "duration": 48,
    "start_time": "2025-04-26T06:22:12.756Z"
   },
   {
    "duration": 11,
    "start_time": "2025-04-26T06:22:12.805Z"
   },
   {
    "duration": 10,
    "start_time": "2025-04-26T06:22:12.817Z"
   },
   {
    "duration": 27,
    "start_time": "2025-04-26T06:22:12.829Z"
   },
   {
    "duration": 17,
    "start_time": "2025-04-26T06:22:12.858Z"
   },
   {
    "duration": 7,
    "start_time": "2025-04-26T06:22:12.877Z"
   },
   {
    "duration": 22,
    "start_time": "2025-04-26T06:22:12.885Z"
   },
   {
    "duration": 7,
    "start_time": "2025-04-26T06:22:12.908Z"
   },
   {
    "duration": 22,
    "start_time": "2025-04-26T06:22:12.917Z"
   },
   {
    "duration": 12,
    "start_time": "2025-04-26T06:22:12.940Z"
   },
   {
    "duration": 8,
    "start_time": "2025-04-26T06:22:12.953Z"
   },
   {
    "duration": 30,
    "start_time": "2025-04-26T06:22:12.963Z"
   },
   {
    "duration": 11,
    "start_time": "2025-04-26T06:22:12.995Z"
   },
   {
    "duration": 8,
    "start_time": "2025-04-26T06:22:13.008Z"
   },
   {
    "duration": 2514,
    "start_time": "2025-04-26T06:22:13.037Z"
   },
   {
    "duration": 208,
    "start_time": "2025-04-26T06:22:15.553Z"
   },
   {
    "duration": 970,
    "start_time": "2025-04-26T06:22:15.762Z"
   },
   {
    "duration": 826,
    "start_time": "2025-04-26T06:22:16.737Z"
   },
   {
    "duration": 3,
    "start_time": "2025-04-26T06:22:17.565Z"
   },
   {
    "duration": 10,
    "start_time": "2025-04-26T06:22:17.570Z"
   },
   {
    "duration": 1966,
    "start_time": "2025-04-26T06:22:17.582Z"
   },
   {
    "duration": 165,
    "start_time": "2025-04-26T06:22:19.550Z"
   },
   {
    "duration": 19,
    "start_time": "2025-04-26T06:22:19.718Z"
   },
   {
    "duration": 243,
    "start_time": "2025-04-26T06:22:19.738Z"
   },
   {
    "duration": 28,
    "start_time": "2025-04-26T06:22:19.983Z"
   },
   {
    "duration": 42,
    "start_time": "2025-04-26T06:22:20.013Z"
   },
   {
    "duration": 21,
    "start_time": "2025-04-26T06:22:20.057Z"
   },
   {
    "duration": 30,
    "start_time": "2025-04-26T06:22:20.079Z"
   },
   {
    "duration": 10,
    "start_time": "2025-04-26T06:22:20.110Z"
   },
   {
    "duration": 19,
    "start_time": "2025-04-26T06:22:20.121Z"
   },
   {
    "duration": 33,
    "start_time": "2025-04-26T06:22:20.142Z"
   },
   {
    "duration": 23872,
    "start_time": "2025-04-26T06:22:20.177Z"
   },
   {
    "duration": 139,
    "start_time": "2025-04-26T06:22:44.051Z"
   },
   {
    "duration": 9,
    "start_time": "2025-04-26T06:25:15.506Z"
   },
   {
    "duration": 73,
    "start_time": "2025-05-13T13:36:42.867Z"
   },
   {
    "duration": 10521,
    "start_time": "2025-05-13T14:00:18.875Z"
   },
   {
    "duration": 1601,
    "start_time": "2025-05-13T14:00:29.399Z"
   },
   {
    "duration": 4,
    "start_time": "2025-05-13T14:00:31.002Z"
   },
   {
    "duration": 48,
    "start_time": "2025-05-13T14:00:31.009Z"
   },
   {
    "duration": 994,
    "start_time": "2025-05-13T14:00:31.059Z"
   },
   {
    "duration": 3,
    "start_time": "2025-05-13T14:00:32.055Z"
   },
   {
    "duration": 81,
    "start_time": "2025-05-13T14:00:32.060Z"
   },
   {
    "duration": 76,
    "start_time": "2025-05-13T14:00:32.142Z"
   },
   {
    "duration": 464,
    "start_time": "2025-05-13T14:00:32.220Z"
   },
   {
    "duration": 11,
    "start_time": "2025-05-13T14:00:32.687Z"
   },
   {
    "duration": 124,
    "start_time": "2025-05-13T14:00:32.699Z"
   },
   {
    "duration": 5,
    "start_time": "2025-05-13T14:00:32.824Z"
   },
   {
    "duration": 159,
    "start_time": "2025-05-13T14:00:32.831Z"
   },
   {
    "duration": 51,
    "start_time": "2025-05-13T14:00:32.992Z"
   },
   {
    "duration": 11545,
    "start_time": "2025-05-13T14:00:33.045Z"
   },
   {
    "duration": 1971,
    "start_time": "2025-05-13T14:00:44.591Z"
   },
   {
    "duration": 3,
    "start_time": "2025-05-13T14:00:46.564Z"
   },
   {
    "duration": 17,
    "start_time": "2025-05-13T14:00:46.569Z"
   },
   {
    "duration": 361,
    "start_time": "2025-05-13T14:00:46.588Z"
   },
   {
    "duration": 0,
    "start_time": "2025-05-13T14:00:46.951Z"
   },
   {
    "duration": 0,
    "start_time": "2025-05-13T14:00:46.953Z"
   },
   {
    "duration": 0,
    "start_time": "2025-05-13T14:00:46.954Z"
   },
   {
    "duration": 0,
    "start_time": "2025-05-13T14:00:46.955Z"
   },
   {
    "duration": 0,
    "start_time": "2025-05-13T14:00:46.956Z"
   },
   {
    "duration": 0,
    "start_time": "2025-05-13T14:00:46.957Z"
   },
   {
    "duration": 0,
    "start_time": "2025-05-13T14:00:46.958Z"
   },
   {
    "duration": 0,
    "start_time": "2025-05-13T14:00:46.959Z"
   },
   {
    "duration": 0,
    "start_time": "2025-05-13T14:00:46.960Z"
   },
   {
    "duration": 0,
    "start_time": "2025-05-13T14:00:46.961Z"
   },
   {
    "duration": 0,
    "start_time": "2025-05-13T14:00:46.962Z"
   },
   {
    "duration": 4,
    "start_time": "2025-05-13T14:02:00.545Z"
   },
   {
    "duration": 8,
    "start_time": "2025-05-13T14:02:12.895Z"
   },
   {
    "duration": 4193,
    "start_time": "2025-05-13T14:02:19.645Z"
   },
   {
    "duration": 4203,
    "start_time": "2025-05-13T14:02:46.144Z"
   },
   {
    "duration": 6,
    "start_time": "2025-05-13T14:02:50.349Z"
   },
   {
    "duration": 4188,
    "start_time": "2025-05-13T14:02:50.357Z"
   },
   {
    "duration": 5,
    "start_time": "2025-05-13T14:02:54.547Z"
   },
   {
    "duration": 4186,
    "start_time": "2025-05-13T14:02:54.554Z"
   },
   {
    "duration": 6,
    "start_time": "2025-05-13T14:02:58.741Z"
   },
   {
    "duration": 21,
    "start_time": "2025-05-13T14:02:58.749Z"
   },
   {
    "duration": 6,
    "start_time": "2025-05-13T14:02:58.771Z"
   },
   {
    "duration": 6,
    "start_time": "2025-05-13T14:02:58.779Z"
   },
   {
    "duration": 14,
    "start_time": "2025-05-13T14:02:58.787Z"
   },
   {
    "duration": 5,
    "start_time": "2025-05-13T14:02:58.803Z"
   },
   {
    "duration": 3782,
    "start_time": "2025-05-13T14:02:58.810Z"
   },
   {
    "duration": 2,
    "start_time": "2025-05-13T14:08:56.465Z"
   },
   {
    "duration": 4,
    "start_time": "2025-05-13T14:11:40.945Z"
   },
   {
    "duration": 4,
    "start_time": "2025-05-13T14:12:15.205Z"
   },
   {
    "duration": 4,
    "start_time": "2025-05-13T14:12:50.904Z"
   },
   {
    "duration": 4,
    "start_time": "2025-05-13T14:13:33.885Z"
   },
   {
    "duration": 3775,
    "start_time": "2025-05-13T14:13:37.695Z"
   },
   {
    "duration": 9,
    "start_time": "2025-05-13T14:13:57.918Z"
   },
   {
    "duration": 5922,
    "start_time": "2025-05-13T14:13:57.929Z"
   },
   {
    "duration": 1394,
    "start_time": "2025-05-13T14:14:03.853Z"
   },
   {
    "duration": 3,
    "start_time": "2025-05-13T14:14:05.249Z"
   },
   {
    "duration": 53,
    "start_time": "2025-05-13T14:14:05.254Z"
   },
   {
    "duration": 965,
    "start_time": "2025-05-13T14:14:05.309Z"
   },
   {
    "duration": 3,
    "start_time": "2025-05-13T14:14:06.276Z"
   },
   {
    "duration": 115,
    "start_time": "2025-05-13T14:14:06.281Z"
   },
   {
    "duration": 93,
    "start_time": "2025-05-13T14:14:06.397Z"
   },
   {
    "duration": 448,
    "start_time": "2025-05-13T14:14:06.492Z"
   },
   {
    "duration": 11,
    "start_time": "2025-05-13T14:14:06.942Z"
   },
   {
    "duration": 89,
    "start_time": "2025-05-13T14:14:06.954Z"
   },
   {
    "duration": 6,
    "start_time": "2025-05-13T14:14:07.045Z"
   },
   {
    "duration": 158,
    "start_time": "2025-05-13T14:14:07.055Z"
   },
   {
    "duration": 29,
    "start_time": "2025-05-13T14:14:07.215Z"
   },
   {
    "duration": 12312,
    "start_time": "2025-05-13T14:14:07.245Z"
   },
   {
    "duration": 1898,
    "start_time": "2025-05-13T14:14:19.559Z"
   },
   {
    "duration": 3,
    "start_time": "2025-05-13T14:14:21.459Z"
   },
   {
    "duration": 12,
    "start_time": "2025-05-13T14:14:21.464Z"
   },
   {
    "duration": 4266,
    "start_time": "2025-05-13T14:14:21.478Z"
   },
   {
    "duration": 7,
    "start_time": "2025-05-13T14:14:25.746Z"
   },
   {
    "duration": 4204,
    "start_time": "2025-05-13T14:14:25.755Z"
   },
   {
    "duration": 7,
    "start_time": "2025-05-13T14:14:29.961Z"
   },
   {
    "duration": 4210,
    "start_time": "2025-05-13T14:14:30.037Z"
   },
   {
    "duration": 9,
    "start_time": "2025-05-13T14:14:34.249Z"
   },
   {
    "duration": 19,
    "start_time": "2025-05-13T14:14:34.259Z"
   },
   {
    "duration": 72,
    "start_time": "2025-05-13T14:14:34.279Z"
   },
   {
    "duration": 82,
    "start_time": "2025-05-13T14:14:34.353Z"
   },
   {
    "duration": 11,
    "start_time": "2025-05-13T14:14:34.437Z"
   },
   {
    "duration": 144,
    "start_time": "2025-05-13T14:14:34.449Z"
   },
   {
    "duration": 7,
    "start_time": "2025-05-13T14:21:31.458Z"
   },
   {
    "duration": 1213,
    "start_time": "2025-05-13T14:21:34.328Z"
   },
   {
    "duration": 1181,
    "start_time": "2025-05-13T14:22:44.368Z"
   },
   {
    "duration": 1195,
    "start_time": "2025-05-13T14:23:29.358Z"
   },
   {
    "duration": 18,
    "start_time": "2025-05-13T14:23:48.078Z"
   },
   {
    "duration": 3,
    "start_time": "2025-05-13T14:24:31.838Z"
   },
   {
    "duration": 5,
    "start_time": "2025-05-13T14:25:04.179Z"
   },
   {
    "duration": 3823,
    "start_time": "2025-05-13T14:25:07.388Z"
   },
   {
    "duration": 8,
    "start_time": "2025-05-13T14:29:58.863Z"
   },
   {
    "duration": 5906,
    "start_time": "2025-05-13T14:29:58.873Z"
   },
   {
    "duration": 1409,
    "start_time": "2025-05-13T14:30:04.782Z"
   },
   {
    "duration": 3,
    "start_time": "2025-05-13T14:30:06.193Z"
   },
   {
    "duration": 129,
    "start_time": "2025-05-13T14:30:06.198Z"
   },
   {
    "duration": 1246,
    "start_time": "2025-05-13T14:30:06.329Z"
   },
   {
    "duration": 3,
    "start_time": "2025-05-13T14:30:07.577Z"
   },
   {
    "duration": 85,
    "start_time": "2025-05-13T14:30:07.582Z"
   },
   {
    "duration": 159,
    "start_time": "2025-05-13T14:30:07.669Z"
   },
   {
    "duration": 463,
    "start_time": "2025-05-13T14:30:07.830Z"
   },
   {
    "duration": 17,
    "start_time": "2025-05-13T14:30:08.297Z"
   },
   {
    "duration": 99,
    "start_time": "2025-05-13T14:30:08.317Z"
   },
   {
    "duration": 5,
    "start_time": "2025-05-13T14:30:08.418Z"
   },
   {
    "duration": 242,
    "start_time": "2025-05-13T14:30:08.436Z"
   },
   {
    "duration": 11,
    "start_time": "2025-05-13T14:30:08.680Z"
   },
   {
    "duration": 11601,
    "start_time": "2025-05-13T14:30:08.692Z"
   },
   {
    "duration": 1973,
    "start_time": "2025-05-13T14:30:20.294Z"
   },
   {
    "duration": 3,
    "start_time": "2025-05-13T14:30:22.269Z"
   },
   {
    "duration": 45,
    "start_time": "2025-05-13T14:30:22.273Z"
   },
   {
    "duration": 1221,
    "start_time": "2025-05-13T14:30:22.320Z"
   },
   {
    "duration": 7,
    "start_time": "2025-05-13T14:30:23.543Z"
   },
   {
    "duration": 1192,
    "start_time": "2025-05-13T14:30:23.552Z"
   },
   {
    "duration": 6,
    "start_time": "2025-05-13T14:30:24.746Z"
   },
   {
    "duration": 1184,
    "start_time": "2025-05-13T14:30:24.754Z"
   },
   {
    "duration": 6,
    "start_time": "2025-05-13T14:30:25.940Z"
   },
   {
    "duration": 22,
    "start_time": "2025-05-13T14:30:25.948Z"
   },
   {
    "duration": 3,
    "start_time": "2025-05-13T14:30:25.972Z"
   },
   {
    "duration": 13,
    "start_time": "2025-05-13T14:30:25.977Z"
   },
   {
    "duration": 6,
    "start_time": "2025-05-13T14:30:25.992Z"
   },
   {
    "duration": 4061,
    "start_time": "2025-05-13T14:30:25.999Z"
   },
   {
    "duration": 118,
    "start_time": "2025-05-13T14:42:55.134Z"
   },
   {
    "duration": 8,
    "start_time": "2025-05-13T14:43:41.774Z"
   },
   {
    "duration": 8,
    "start_time": "2025-05-13T14:44:25.364Z"
   },
   {
    "duration": 7,
    "start_time": "2025-05-13T14:44:36.594Z"
   },
   {
    "duration": 79,
    "start_time": "2025-05-13T14:45:13.663Z"
   },
   {
    "duration": 6,
    "start_time": "2025-05-13T14:45:26.154Z"
   },
   {
    "duration": 3927,
    "start_time": "2025-05-13T14:45:33.483Z"
   },
   {
    "duration": 10,
    "start_time": "2025-05-13T14:48:12.833Z"
   },
   {
    "duration": 5,
    "start_time": "2025-05-13T14:48:26.294Z"
   },
   {
    "duration": 80,
    "start_time": "2025-05-13T14:48:34.354Z"
   },
   {
    "duration": 9,
    "start_time": "2025-05-13T14:51:02.664Z"
   },
   {
    "duration": 5690,
    "start_time": "2025-05-13T14:51:02.676Z"
   },
   {
    "duration": 1368,
    "start_time": "2025-05-13T14:51:08.368Z"
   },
   {
    "duration": 3,
    "start_time": "2025-05-13T14:51:09.739Z"
   },
   {
    "duration": 58,
    "start_time": "2025-05-13T14:51:09.744Z"
   },
   {
    "duration": 992,
    "start_time": "2025-05-13T14:51:09.804Z"
   },
   {
    "duration": 3,
    "start_time": "2025-05-13T14:51:10.797Z"
   },
   {
    "duration": 88,
    "start_time": "2025-05-13T14:51:10.802Z"
   },
   {
    "duration": 82,
    "start_time": "2025-05-13T14:51:10.892Z"
   },
   {
    "duration": 478,
    "start_time": "2025-05-13T14:51:10.975Z"
   },
   {
    "duration": 12,
    "start_time": "2025-05-13T14:51:11.454Z"
   },
   {
    "duration": 95,
    "start_time": "2025-05-13T14:51:11.467Z"
   },
   {
    "duration": 5,
    "start_time": "2025-05-13T14:51:11.564Z"
   },
   {
    "duration": 165,
    "start_time": "2025-05-13T14:51:11.571Z"
   },
   {
    "duration": 12,
    "start_time": "2025-05-13T14:51:11.738Z"
   },
   {
    "duration": 11496,
    "start_time": "2025-05-13T14:51:11.751Z"
   },
   {
    "duration": 1966,
    "start_time": "2025-05-13T14:51:23.249Z"
   },
   {
    "duration": 3,
    "start_time": "2025-05-13T14:51:25.216Z"
   },
   {
    "duration": 15,
    "start_time": "2025-05-13T14:51:25.221Z"
   },
   {
    "duration": 1200,
    "start_time": "2025-05-13T14:51:25.238Z"
   },
   {
    "duration": 7,
    "start_time": "2025-05-13T14:51:26.439Z"
   },
   {
    "duration": 1201,
    "start_time": "2025-05-13T14:51:26.447Z"
   },
   {
    "duration": 7,
    "start_time": "2025-05-13T14:51:27.650Z"
   },
   {
    "duration": 1179,
    "start_time": "2025-05-13T14:51:27.662Z"
   },
   {
    "duration": 8,
    "start_time": "2025-05-13T14:51:28.843Z"
   },
   {
    "duration": 27,
    "start_time": "2025-05-13T14:51:28.852Z"
   },
   {
    "duration": 4,
    "start_time": "2025-05-13T14:51:28.881Z"
   },
   {
    "duration": 43,
    "start_time": "2025-05-13T14:51:28.886Z"
   },
   {
    "duration": 26,
    "start_time": "2025-05-13T14:51:28.931Z"
   },
   {
    "duration": 4067,
    "start_time": "2025-05-13T14:51:28.959Z"
   },
   {
    "duration": 13753,
    "start_time": "2025-06-13T21:25:33.427Z"
   },
   {
    "duration": 1534,
    "start_time": "2025-06-13T21:25:47.182Z"
   },
   {
    "duration": 4,
    "start_time": "2025-06-13T21:25:48.718Z"
   },
   {
    "duration": 1092,
    "start_time": "2025-06-13T21:25:48.724Z"
   },
   {
    "duration": 30,
    "start_time": "2025-06-13T21:25:49.817Z"
   },
   {
    "duration": 168,
    "start_time": "2025-06-13T21:25:49.849Z"
   },
   {
    "duration": 91,
    "start_time": "2025-06-13T21:25:50.019Z"
   },
   {
    "duration": 92,
    "start_time": "2025-06-13T21:25:50.112Z"
   },
   {
    "duration": 89,
    "start_time": "2025-06-13T21:32:16.595Z"
   },
   {
    "duration": 713,
    "start_time": "2025-06-13T21:34:13.679Z"
   },
   {
    "duration": 638,
    "start_time": "2025-06-13T21:36:15.646Z"
   },
   {
    "duration": 4,
    "start_time": "2025-06-13T21:42:30.165Z"
   },
   {
    "duration": 600,
    "start_time": "2025-06-13T21:43:10.475Z"
   },
   {
    "duration": 23,
    "start_time": "2025-06-13T21:46:16.217Z"
   },
   {
    "duration": 39,
    "start_time": "2025-06-13T21:46:40.617Z"
   },
   {
    "duration": 374,
    "start_time": "2025-06-13T21:46:45.137Z"
   },
   {
    "duration": 1152,
    "start_time": "2025-06-13T21:52:21.016Z"
   },
   {
    "duration": 72,
    "start_time": "2025-06-13T21:52:40.321Z"
   },
   {
    "duration": 812,
    "start_time": "2025-06-13T21:53:30.655Z"
   },
   {
    "duration": 845,
    "start_time": "2025-06-13T21:53:40.945Z"
   },
   {
    "duration": 933,
    "start_time": "2025-06-13T21:54:20.138Z"
   },
   {
    "duration": 923,
    "start_time": "2025-06-13T21:55:33.188Z"
   },
   {
    "duration": 86,
    "start_time": "2025-06-13T21:57:33.606Z"
   },
   {
    "duration": 8230,
    "start_time": "2025-06-13T21:59:47.233Z"
   },
   {
    "duration": 1437,
    "start_time": "2025-06-13T21:59:55.466Z"
   },
   {
    "duration": 3,
    "start_time": "2025-06-13T21:59:56.905Z"
   },
   {
    "duration": 934,
    "start_time": "2025-06-13T21:59:56.909Z"
   },
   {
    "duration": 34,
    "start_time": "2025-06-13T21:59:57.845Z"
   },
   {
    "duration": 179,
    "start_time": "2025-06-13T21:59:57.881Z"
   },
   {
    "duration": 49,
    "start_time": "2025-06-13T21:59:58.062Z"
   },
   {
    "duration": 111,
    "start_time": "2025-06-13T21:59:58.113Z"
   },
   {
    "duration": 81,
    "start_time": "2025-06-13T21:59:58.235Z"
   },
   {
    "duration": 964,
    "start_time": "2025-06-13T21:59:58.318Z"
   },
   {
    "duration": 4,
    "start_time": "2025-06-13T21:59:59.284Z"
   },
   {
    "duration": 1822,
    "start_time": "2025-06-13T21:59:59.290Z"
   },
   {
    "duration": 4,
    "start_time": "2025-06-13T22:00:01.115Z"
   },
   {
    "duration": 136,
    "start_time": "2025-06-13T22:00:01.135Z"
   },
   {
    "duration": 1871,
    "start_time": "2025-06-13T22:00:01.273Z"
   },
   {
    "duration": 170,
    "start_time": "2025-06-13T22:00:03.146Z"
   },
   {
    "duration": 347,
    "start_time": "2025-06-13T22:00:03.319Z"
   },
   {
    "duration": 5,
    "start_time": "2025-06-13T22:00:03.669Z"
   },
   {
    "duration": 305,
    "start_time": "2025-06-13T22:00:12.604Z"
   },
   {
    "duration": 13,
    "start_time": "2025-06-13T22:07:51.758Z"
   },
   {
    "duration": 27,
    "start_time": "2025-06-13T22:07:54.647Z"
   },
   {
    "duration": 18,
    "start_time": "2025-06-13T22:08:46.878Z"
   },
   {
    "duration": 13,
    "start_time": "2025-06-13T22:10:59.838Z"
   },
   {
    "duration": 14,
    "start_time": "2025-06-13T22:11:09.503Z"
   },
   {
    "duration": 6306,
    "start_time": "2025-06-13T22:12:11.018Z"
   },
   {
    "duration": 150,
    "start_time": "2025-06-13T22:21:05.607Z"
   },
   {
    "duration": 8,
    "start_time": "2025-06-13T22:21:17.146Z"
   },
   {
    "duration": 8,
    "start_time": "2025-06-13T22:21:31.372Z"
   },
   {
    "duration": 9,
    "start_time": "2025-06-13T22:22:57.135Z"
   },
   {
    "duration": 8361,
    "start_time": "2025-06-13T22:23:09.581Z"
   },
   {
    "duration": 6,
    "start_time": "2025-06-13T22:23:17.945Z"
   },
   {
    "duration": 13,
    "start_time": "2025-06-13T22:23:17.953Z"
   },
   {
    "duration": 914,
    "start_time": "2025-06-13T22:23:17.969Z"
   },
   {
    "duration": 25,
    "start_time": "2025-06-13T22:23:18.885Z"
   },
   {
    "duration": 168,
    "start_time": "2025-06-13T22:23:18.912Z"
   },
   {
    "duration": 55,
    "start_time": "2025-06-13T22:23:19.082Z"
   },
   {
    "duration": 122,
    "start_time": "2025-06-13T22:23:19.139Z"
   },
   {
    "duration": 93,
    "start_time": "2025-06-13T22:23:19.263Z"
   },
   {
    "duration": 939,
    "start_time": "2025-06-13T22:23:19.359Z"
   },
   {
    "duration": 5,
    "start_time": "2025-06-13T22:23:20.300Z"
   },
   {
    "duration": 1828,
    "start_time": "2025-06-13T22:23:20.307Z"
   },
   {
    "duration": 5,
    "start_time": "2025-06-13T22:23:22.137Z"
   },
   {
    "duration": 130,
    "start_time": "2025-06-13T22:23:22.143Z"
   },
   {
    "duration": 1788,
    "start_time": "2025-06-13T22:23:22.275Z"
   },
   {
    "duration": 216,
    "start_time": "2025-06-13T22:23:24.065Z"
   },
   {
    "duration": 340,
    "start_time": "2025-06-13T22:23:24.283Z"
   },
   {
    "duration": 10,
    "start_time": "2025-06-13T22:23:24.626Z"
   },
   {
    "duration": 313,
    "start_time": "2025-06-13T22:23:24.638Z"
   },
   {
    "duration": 12,
    "start_time": "2025-06-13T22:23:24.953Z"
   },
   {
    "duration": 25,
    "start_time": "2025-06-13T22:23:24.966Z"
   },
   {
    "duration": 13,
    "start_time": "2025-06-13T22:23:35.683Z"
   },
   {
    "duration": 254,
    "start_time": "2025-06-13T22:23:46.389Z"
   },
   {
    "duration": 7,
    "start_time": "2025-06-13T22:23:49.030Z"
   },
   {
    "duration": 7,
    "start_time": "2025-06-13T22:26:19.622Z"
   },
   {
    "duration": 110,
    "start_time": "2025-06-13T22:28:32.541Z"
   },
   {
    "duration": 7,
    "start_time": "2025-06-13T22:28:34.592Z"
   },
   {
    "duration": 7978,
    "start_time": "2025-06-13T22:28:50.271Z"
   },
   {
    "duration": 1317,
    "start_time": "2025-06-13T22:28:58.252Z"
   },
   {
    "duration": 3,
    "start_time": "2025-06-13T22:28:59.571Z"
   },
   {
    "duration": 884,
    "start_time": "2025-06-13T22:28:59.576Z"
   },
   {
    "duration": 36,
    "start_time": "2025-06-13T22:29:00.462Z"
   },
   {
    "duration": 172,
    "start_time": "2025-06-13T22:29:00.500Z"
   },
   {
    "duration": 65,
    "start_time": "2025-06-13T22:29:00.674Z"
   },
   {
    "duration": 98,
    "start_time": "2025-06-13T22:29:00.740Z"
   },
   {
    "duration": 77,
    "start_time": "2025-06-13T22:29:00.840Z"
   },
   {
    "duration": 946,
    "start_time": "2025-06-13T22:29:00.919Z"
   },
   {
    "duration": 4,
    "start_time": "2025-06-13T22:29:01.867Z"
   },
   {
    "duration": 1791,
    "start_time": "2025-06-13T22:29:01.873Z"
   },
   {
    "duration": 4,
    "start_time": "2025-06-13T22:29:03.666Z"
   },
   {
    "duration": 124,
    "start_time": "2025-06-13T22:29:03.671Z"
   },
   {
    "duration": 1801,
    "start_time": "2025-06-13T22:29:03.797Z"
   },
   {
    "duration": 185,
    "start_time": "2025-06-13T22:29:05.600Z"
   },
   {
    "duration": 351,
    "start_time": "2025-06-13T22:29:05.787Z"
   },
   {
    "duration": 5,
    "start_time": "2025-06-13T22:29:06.140Z"
   },
   {
    "duration": 327,
    "start_time": "2025-06-13T22:29:06.146Z"
   },
   {
    "duration": 11,
    "start_time": "2025-06-13T22:29:06.475Z"
   },
   {
    "duration": 51,
    "start_time": "2025-06-13T22:29:06.488Z"
   },
   {
    "duration": 17,
    "start_time": "2025-06-13T22:29:06.542Z"
   },
   {
    "duration": 267,
    "start_time": "2025-06-13T22:29:06.561Z"
   },
   {
    "duration": 191,
    "start_time": "2025-06-13T22:29:16.641Z"
   },
   {
    "duration": 8,
    "start_time": "2025-06-13T22:29:20.242Z"
   },
   {
    "duration": 8,
    "start_time": "2025-06-13T22:30:01.121Z"
   },
   {
    "duration": 9,
    "start_time": "2025-06-13T22:33:09.212Z"
   },
   {
    "duration": 8,
    "start_time": "2025-06-13T22:35:13.312Z"
   },
   {
    "duration": 31,
    "start_time": "2025-06-13T22:35:59.639Z"
   },
   {
    "duration": 12,
    "start_time": "2025-06-13T22:38:05.141Z"
   },
   {
    "duration": 11,
    "start_time": "2025-06-13T22:38:30.711Z"
   },
   {
    "duration": 6,
    "start_time": "2025-06-13T22:42:22.513Z"
   },
   {
    "duration": 292,
    "start_time": "2025-06-13T22:43:49.983Z"
   },
   {
    "duration": 8376,
    "start_time": "2025-06-13T22:44:32.762Z"
   },
   {
    "duration": 1449,
    "start_time": "2025-06-13T22:44:41.141Z"
   },
   {
    "duration": 4,
    "start_time": "2025-06-13T22:44:42.591Z"
   },
   {
    "duration": 895,
    "start_time": "2025-06-13T22:44:42.597Z"
   },
   {
    "duration": 29,
    "start_time": "2025-06-13T22:44:43.494Z"
   },
   {
    "duration": 165,
    "start_time": "2025-06-13T22:44:43.524Z"
   },
   {
    "duration": 64,
    "start_time": "2025-06-13T22:44:43.691Z"
   },
   {
    "duration": 97,
    "start_time": "2025-06-13T22:44:43.757Z"
   },
   {
    "duration": 83,
    "start_time": "2025-06-13T22:44:43.855Z"
   },
   {
    "duration": 928,
    "start_time": "2025-06-13T22:44:43.940Z"
   },
   {
    "duration": 3,
    "start_time": "2025-06-13T22:44:44.870Z"
   },
   {
    "duration": 1769,
    "start_time": "2025-06-13T22:44:44.874Z"
   },
   {
    "duration": 3,
    "start_time": "2025-06-13T22:44:46.645Z"
   },
   {
    "duration": 132,
    "start_time": "2025-06-13T22:44:46.650Z"
   },
   {
    "duration": 1744,
    "start_time": "2025-06-13T22:44:46.784Z"
   },
   {
    "duration": 173,
    "start_time": "2025-06-13T22:44:48.534Z"
   },
   {
    "duration": 341,
    "start_time": "2025-06-13T22:44:48.709Z"
   },
   {
    "duration": 6,
    "start_time": "2025-06-13T22:44:49.052Z"
   },
   {
    "duration": 329,
    "start_time": "2025-06-13T22:44:49.060Z"
   },
   {
    "duration": 11,
    "start_time": "2025-06-13T22:44:49.391Z"
   },
   {
    "duration": 100,
    "start_time": "2025-06-13T22:44:49.404Z"
   },
   {
    "duration": 15,
    "start_time": "2025-06-13T22:44:49.506Z"
   },
   {
    "duration": 260,
    "start_time": "2025-06-13T22:44:49.523Z"
   },
   {
    "duration": 9,
    "start_time": "2025-06-13T22:44:49.785Z"
   },
   {
    "duration": 43,
    "start_time": "2025-06-13T22:44:49.795Z"
   },
   {
    "duration": 10,
    "start_time": "2025-06-13T22:44:49.840Z"
   },
   {
    "duration": 25,
    "start_time": "2025-06-13T22:44:49.852Z"
   },
   {
    "duration": 11,
    "start_time": "2025-06-13T22:44:49.881Z"
   },
   {
    "duration": 43,
    "start_time": "2025-06-13T22:44:49.894Z"
   },
   {
    "duration": 279,
    "start_time": "2025-06-13T22:44:49.939Z"
   },
   {
    "duration": 20,
    "start_time": "2025-06-13T22:44:50.220Z"
   },
   {
    "duration": 9324,
    "start_time": "2025-06-13T22:44:50.242Z"
   },
   {
    "duration": 946,
    "start_time": "2025-06-13T22:44:59.568Z"
   },
   {
    "duration": 0,
    "start_time": "2025-06-13T22:45:00.515Z"
   },
   {
    "duration": 0,
    "start_time": "2025-06-13T22:45:00.516Z"
   },
   {
    "duration": 13615,
    "start_time": "2025-06-15T19:41:33.270Z"
   },
   {
    "duration": 2643,
    "start_time": "2025-06-15T19:41:48.837Z"
   },
   {
    "duration": 4,
    "start_time": "2025-06-15T19:41:53.940Z"
   },
   {
    "duration": 933,
    "start_time": "2025-06-15T19:41:54.704Z"
   },
   {
    "duration": 26,
    "start_time": "2025-06-15T19:41:58.568Z"
   },
   {
    "duration": 152,
    "start_time": "2025-06-15T19:42:00.485Z"
   },
   {
    "duration": 58,
    "start_time": "2025-06-15T19:42:01.522Z"
   },
   {
    "duration": 92,
    "start_time": "2025-06-15T19:42:03.523Z"
   },
   {
    "duration": 81,
    "start_time": "2025-06-15T19:42:04.062Z"
   },
   {
    "duration": 927,
    "start_time": "2025-06-15T19:42:04.401Z"
   },
   {
    "duration": 4,
    "start_time": "2025-06-15T19:42:13.161Z"
   },
   {
    "duration": 1810,
    "start_time": "2025-06-15T19:42:13.609Z"
   },
   {
    "duration": 3,
    "start_time": "2025-06-15T19:42:16.645Z"
   },
   {
    "duration": 122,
    "start_time": "2025-06-15T19:42:17.014Z"
   },
   {
    "duration": 1766,
    "start_time": "2025-06-15T19:42:18.013Z"
   },
   {
    "duration": 177,
    "start_time": "2025-06-15T19:42:19.782Z"
   },
   {
    "duration": 334,
    "start_time": "2025-06-15T19:42:20.853Z"
   },
   {
    "duration": 5,
    "start_time": "2025-06-15T19:42:23.918Z"
   },
   {
    "duration": 299,
    "start_time": "2025-06-15T19:42:25.678Z"
   },
   {
    "duration": 15,
    "start_time": "2025-06-15T19:42:59.636Z"
   },
   {
    "duration": 24,
    "start_time": "2025-06-15T19:43:41.732Z"
   },
   {
    "duration": 74,
    "start_time": "2025-06-19T19:22:45.441Z"
   },
   {
    "duration": 98,
    "start_time": "2025-07-09T19:15:11.415Z"
   },
   {
    "duration": 7821,
    "start_time": "2025-07-09T19:20:45.780Z"
   },
   {
    "duration": 4730,
    "start_time": "2025-07-09T19:20:53.603Z"
   },
   {
    "duration": 4,
    "start_time": "2025-07-09T19:20:58.334Z"
   },
   {
    "duration": 974,
    "start_time": "2025-07-09T19:20:58.340Z"
   },
   {
    "duration": 12,
    "start_time": "2025-07-09T19:20:59.315Z"
   },
   {
    "duration": 27,
    "start_time": "2025-07-09T19:20:59.328Z"
   },
   {
    "duration": 25,
    "start_time": "2025-07-09T19:20:59.358Z"
   },
   {
    "duration": 11,
    "start_time": "2025-07-09T19:20:59.384Z"
   },
   {
    "duration": 5,
    "start_time": "2025-07-09T19:20:59.397Z"
   },
   {
    "duration": 1177,
    "start_time": "2025-07-09T19:26:09.600Z"
   },
   {
    "duration": 796,
    "start_time": "2025-07-09T19:27:50.540Z"
   },
   {
    "duration": 378,
    "start_time": "2025-07-09T19:28:41.620Z"
   },
   {
    "duration": 1038,
    "start_time": "2025-07-09T19:29:59.201Z"
   },
   {
    "duration": 896,
    "start_time": "2025-07-09T19:30:45.642Z"
   }
  ],
  "kernelspec": {
   "display_name": "Python 3 (ipykernel)",
   "language": "python",
   "name": "python3"
  },
  "language_info": {
   "codemirror_mode": {
    "name": "ipython",
    "version": 3
   },
   "file_extension": ".py",
   "mimetype": "text/x-python",
   "name": "python",
   "nbconvert_exporter": "python",
   "pygments_lexer": "ipython3",
   "version": "3.9.23"
  },
  "toc": {
   "base_numbering": 1,
   "nav_menu": {},
   "number_sections": true,
   "sideBar": true,
   "skip_h1_title": true,
   "title_cell": "Table of Contents",
   "title_sidebar": "Contents",
   "toc_cell": true,
   "toc_position": {
    "height": "438px",
    "left": "27px",
    "top": "110px",
    "width": "165px"
   },
   "toc_section_display": true,
   "toc_window_display": true
  }
 },
 "nbformat": 4,
 "nbformat_minor": 5
}
